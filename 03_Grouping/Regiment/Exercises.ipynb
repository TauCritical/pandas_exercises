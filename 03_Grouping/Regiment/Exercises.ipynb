{
 "cells": [
  {
   "cell_type": "markdown",
   "metadata": {},
   "source": [
    "# Regiment"
   ]
  },
  {
   "cell_type": "markdown",
   "metadata": {},
   "source": [
    "### Introduction:\n",
    "\n",
    "Special thanks to: http://chrisalbon.com/ for sharing the dataset and materials.\n",
    "\n",
    "### Step 1. Import the necessary libraries"
   ]
  },
  {
   "cell_type": "code",
   "execution_count": 1,
   "metadata": {
    "collapsed": false
   },
   "outputs": [],
   "source": [
    "import pandas as pd\n",
    "import numpy as np"
   ]
  },
  {
   "cell_type": "markdown",
   "metadata": {},
   "source": [
    "### Step 2. Create the DataFrame with the following values:"
   ]
  },
  {
   "cell_type": "code",
   "execution_count": 2,
   "metadata": {
    "collapsed": true
   },
   "outputs": [],
   "source": [
    "raw_data = {'regiment': ['Nighthawks', 'Nighthawks', 'Nighthawks', 'Nighthawks', 'Dragoons', 'Dragoons', 'Dragoons', 'Dragoons', 'Scouts', 'Scouts', 'Scouts', 'Scouts'], \n",
    "        'company': ['1st', '1st', '2nd', '2nd', '1st', '1st', '2nd', '2nd','1st', '1st', '2nd', '2nd'], \n",
    "        'name': ['Miller', 'Jacobson', 'Ali', 'Milner', 'Cooze', 'Jacon', 'Ryaner', 'Sone', 'Sloan', 'Piger', 'Riani', 'Ali'], \n",
    "        'preTestScore': [4, 24, 31, 2, 3, 4, 24, 31, 2, 3, 2, 3],\n",
    "        'postTestScore': [25, 94, 57, 62, 70, 25, 94, 57, 62, 70, 62, 70]}"
   ]
  },
  {
   "cell_type": "markdown",
   "metadata": {},
   "source": [
    "### Step 3. Assign it to a variable called regiment.\n",
    "#### Don't forget to name each column"
   ]
  },
  {
   "cell_type": "code",
   "execution_count": 3,
   "metadata": {
    "collapsed": false
   },
   "outputs": [],
   "source": [
    "regiment = pd.DataFrame.from_dict(raw_data)"
   ]
  },
  {
   "cell_type": "code",
   "execution_count": 4,
   "metadata": {},
   "outputs": [
    {
     "output_type": "execute_result",
     "data": {
      "text/plain": "     regiment company      name  preTestScore  postTestScore\n0  Nighthawks     1st    Miller             4             25\n1  Nighthawks     1st  Jacobson            24             94\n2  Nighthawks     2nd       Ali            31             57\n3  Nighthawks     2nd    Milner             2             62\n4    Dragoons     1st     Cooze             3             70",
      "text/html": "<div>\n<style scoped>\n    .dataframe tbody tr th:only-of-type {\n        vertical-align: middle;\n    }\n\n    .dataframe tbody tr th {\n        vertical-align: top;\n    }\n\n    .dataframe thead th {\n        text-align: right;\n    }\n</style>\n<table border=\"1\" class=\"dataframe\">\n  <thead>\n    <tr style=\"text-align: right;\">\n      <th></th>\n      <th>regiment</th>\n      <th>company</th>\n      <th>name</th>\n      <th>preTestScore</th>\n      <th>postTestScore</th>\n    </tr>\n  </thead>\n  <tbody>\n    <tr>\n      <th>0</th>\n      <td>Nighthawks</td>\n      <td>1st</td>\n      <td>Miller</td>\n      <td>4</td>\n      <td>25</td>\n    </tr>\n    <tr>\n      <th>1</th>\n      <td>Nighthawks</td>\n      <td>1st</td>\n      <td>Jacobson</td>\n      <td>24</td>\n      <td>94</td>\n    </tr>\n    <tr>\n      <th>2</th>\n      <td>Nighthawks</td>\n      <td>2nd</td>\n      <td>Ali</td>\n      <td>31</td>\n      <td>57</td>\n    </tr>\n    <tr>\n      <th>3</th>\n      <td>Nighthawks</td>\n      <td>2nd</td>\n      <td>Milner</td>\n      <td>2</td>\n      <td>62</td>\n    </tr>\n    <tr>\n      <th>4</th>\n      <td>Dragoons</td>\n      <td>1st</td>\n      <td>Cooze</td>\n      <td>3</td>\n      <td>70</td>\n    </tr>\n  </tbody>\n</table>\n</div>"
     },
     "metadata": {},
     "execution_count": 4
    }
   ],
   "source": [
    "regiment.head(5)"
   ]
  },
  {
   "cell_type": "markdown",
   "metadata": {},
   "source": [
    "### Step 4. What is the mean preTestScore from the regiment Nighthawks?  "
   ]
  },
  {
   "cell_type": "code",
   "execution_count": 6,
   "metadata": {},
   "outputs": [
    {
     "output_type": "execute_result",
     "data": {
      "text/plain": "15.25"
     },
     "metadata": {},
     "execution_count": 6
    }
   ],
   "source": [
    "regiment.loc[regiment.regiment=='Nighthawks',:].preTestScore.mean()"
   ]
  },
  {
   "cell_type": "code",
   "execution_count": null,
   "metadata": {
    "collapsed": false
   },
   "outputs": [],
   "source": []
  },
  {
   "cell_type": "markdown",
   "metadata": {},
   "source": [
    "### Step 5. Present general statistics by company"
   ]
  },
  {
   "cell_type": "code",
   "execution_count": 7,
   "metadata": {
    "collapsed": false
   },
   "outputs": [
    {
     "output_type": "execute_result",
     "data": {
      "text/plain": "                   preTestScore                                             \\\n                          count  mean        std   min    25%   50%    75%   \nregiment   company                                                           \nDragoons   1st              2.0   3.5   0.707107   3.0   3.25   3.5   3.75   \n           2nd              2.0  27.5   4.949747  24.0  25.75  27.5  29.25   \nNighthawks 1st              2.0  14.0  14.142136   4.0   9.00  14.0  19.00   \n           2nd              2.0  16.5  20.506097   2.0   9.25  16.5  23.75   \nScouts     1st              2.0   2.5   0.707107   2.0   2.25   2.5   2.75   \n           2nd              2.0   2.5   0.707107   2.0   2.25   2.5   2.75   \n\n                         postTestScore                                      \\\n                     max         count  mean        std   min    25%   50%   \nregiment   company                                                           \nDragoons   1st       4.0           2.0  47.5  31.819805  25.0  36.25  47.5   \n           2nd      31.0           2.0  75.5  26.162951  57.0  66.25  75.5   \nNighthawks 1st      24.0           2.0  59.5  48.790368  25.0  42.25  59.5   \n           2nd      31.0           2.0  59.5   3.535534  57.0  58.25  59.5   \nScouts     1st       3.0           2.0  66.0   5.656854  62.0  64.00  66.0   \n           2nd       3.0           2.0  66.0   5.656854  62.0  64.00  66.0   \n\n                                 \n                      75%   max  \nregiment   company               \nDragoons   1st      58.75  70.0  \n           2nd      84.75  94.0  \nNighthawks 1st      76.75  94.0  \n           2nd      60.75  62.0  \nScouts     1st      68.00  70.0  \n           2nd      68.00  70.0  ",
      "text/html": "<div>\n<style scoped>\n    .dataframe tbody tr th:only-of-type {\n        vertical-align: middle;\n    }\n\n    .dataframe tbody tr th {\n        vertical-align: top;\n    }\n\n    .dataframe thead tr th {\n        text-align: left;\n    }\n\n    .dataframe thead tr:last-of-type th {\n        text-align: right;\n    }\n</style>\n<table border=\"1\" class=\"dataframe\">\n  <thead>\n    <tr>\n      <th></th>\n      <th></th>\n      <th colspan=\"8\" halign=\"left\">preTestScore</th>\n      <th colspan=\"8\" halign=\"left\">postTestScore</th>\n    </tr>\n    <tr>\n      <th></th>\n      <th></th>\n      <th>count</th>\n      <th>mean</th>\n      <th>std</th>\n      <th>min</th>\n      <th>25%</th>\n      <th>50%</th>\n      <th>75%</th>\n      <th>max</th>\n      <th>count</th>\n      <th>mean</th>\n      <th>std</th>\n      <th>min</th>\n      <th>25%</th>\n      <th>50%</th>\n      <th>75%</th>\n      <th>max</th>\n    </tr>\n    <tr>\n      <th>regiment</th>\n      <th>company</th>\n      <th></th>\n      <th></th>\n      <th></th>\n      <th></th>\n      <th></th>\n      <th></th>\n      <th></th>\n      <th></th>\n      <th></th>\n      <th></th>\n      <th></th>\n      <th></th>\n      <th></th>\n      <th></th>\n      <th></th>\n      <th></th>\n    </tr>\n  </thead>\n  <tbody>\n    <tr>\n      <th rowspan=\"2\" valign=\"top\">Dragoons</th>\n      <th>1st</th>\n      <td>2.0</td>\n      <td>3.5</td>\n      <td>0.707107</td>\n      <td>3.0</td>\n      <td>3.25</td>\n      <td>3.5</td>\n      <td>3.75</td>\n      <td>4.0</td>\n      <td>2.0</td>\n      <td>47.5</td>\n      <td>31.819805</td>\n      <td>25.0</td>\n      <td>36.25</td>\n      <td>47.5</td>\n      <td>58.75</td>\n      <td>70.0</td>\n    </tr>\n    <tr>\n      <th>2nd</th>\n      <td>2.0</td>\n      <td>27.5</td>\n      <td>4.949747</td>\n      <td>24.0</td>\n      <td>25.75</td>\n      <td>27.5</td>\n      <td>29.25</td>\n      <td>31.0</td>\n      <td>2.0</td>\n      <td>75.5</td>\n      <td>26.162951</td>\n      <td>57.0</td>\n      <td>66.25</td>\n      <td>75.5</td>\n      <td>84.75</td>\n      <td>94.0</td>\n    </tr>\n    <tr>\n      <th rowspan=\"2\" valign=\"top\">Nighthawks</th>\n      <th>1st</th>\n      <td>2.0</td>\n      <td>14.0</td>\n      <td>14.142136</td>\n      <td>4.0</td>\n      <td>9.00</td>\n      <td>14.0</td>\n      <td>19.00</td>\n      <td>24.0</td>\n      <td>2.0</td>\n      <td>59.5</td>\n      <td>48.790368</td>\n      <td>25.0</td>\n      <td>42.25</td>\n      <td>59.5</td>\n      <td>76.75</td>\n      <td>94.0</td>\n    </tr>\n    <tr>\n      <th>2nd</th>\n      <td>2.0</td>\n      <td>16.5</td>\n      <td>20.506097</td>\n      <td>2.0</td>\n      <td>9.25</td>\n      <td>16.5</td>\n      <td>23.75</td>\n      <td>31.0</td>\n      <td>2.0</td>\n      <td>59.5</td>\n      <td>3.535534</td>\n      <td>57.0</td>\n      <td>58.25</td>\n      <td>59.5</td>\n      <td>60.75</td>\n      <td>62.0</td>\n    </tr>\n    <tr>\n      <th rowspan=\"2\" valign=\"top\">Scouts</th>\n      <th>1st</th>\n      <td>2.0</td>\n      <td>2.5</td>\n      <td>0.707107</td>\n      <td>2.0</td>\n      <td>2.25</td>\n      <td>2.5</td>\n      <td>2.75</td>\n      <td>3.0</td>\n      <td>2.0</td>\n      <td>66.0</td>\n      <td>5.656854</td>\n      <td>62.0</td>\n      <td>64.00</td>\n      <td>66.0</td>\n      <td>68.00</td>\n      <td>70.0</td>\n    </tr>\n    <tr>\n      <th>2nd</th>\n      <td>2.0</td>\n      <td>2.5</td>\n      <td>0.707107</td>\n      <td>2.0</td>\n      <td>2.25</td>\n      <td>2.5</td>\n      <td>2.75</td>\n      <td>3.0</td>\n      <td>2.0</td>\n      <td>66.0</td>\n      <td>5.656854</td>\n      <td>62.0</td>\n      <td>64.00</td>\n      <td>66.0</td>\n      <td>68.00</td>\n      <td>70.0</td>\n    </tr>\n  </tbody>\n</table>\n</div>"
     },
     "metadata": {},
     "execution_count": 7
    }
   ],
   "source": [
    "regiment.groupby (['regiment','company']).describe()"
   ]
  },
  {
   "cell_type": "markdown",
   "metadata": {},
   "source": [
    "### Step 6. What is the mean of each company's preTestScore?"
   ]
  },
  {
   "cell_type": "code",
   "execution_count": 9,
   "metadata": {
    "collapsed": false
   },
   "outputs": [
    {
     "output_type": "execute_result",
     "data": {
      "text/plain": "regiment    company\nDragoons    1st         3.5\n            2nd        27.5\nNighthawks  1st        14.0\n            2nd        16.5\nScouts      1st         2.5\n            2nd         2.5\nName: preTestScore, dtype: float64"
     },
     "metadata": {},
     "execution_count": 9
    }
   ],
   "source": [
    "regiment.groupby(['regiment','company']).mean()['preTestScore']"
   ]
  },
  {
   "cell_type": "markdown",
   "metadata": {},
   "source": [
    "### Step 7. Present the mean preTestScores grouped by regiment and company"
   ]
  },
  {
   "cell_type": "code",
   "execution_count": null,
   "metadata": {
    "collapsed": false
   },
   "outputs": [],
   "source": []
  },
  {
   "cell_type": "markdown",
   "metadata": {},
   "source": [
    "### Step 8. Present the mean preTestScores grouped by regiment and company without heirarchical indexing"
   ]
  },
  {
   "cell_type": "code",
   "execution_count": 13,
   "metadata": {
    "collapsed": false
   },
   "outputs": [
    {
     "output_type": "execute_result",
     "data": {
      "text/plain": "company      1st   2nd\nregiment              \nDragoons     3.5  27.5\nNighthawks  14.0  16.5\nScouts       2.5   2.5",
      "text/html": "<div>\n<style scoped>\n    .dataframe tbody tr th:only-of-type {\n        vertical-align: middle;\n    }\n\n    .dataframe tbody tr th {\n        vertical-align: top;\n    }\n\n    .dataframe thead th {\n        text-align: right;\n    }\n</style>\n<table border=\"1\" class=\"dataframe\">\n  <thead>\n    <tr style=\"text-align: right;\">\n      <th>company</th>\n      <th>1st</th>\n      <th>2nd</th>\n    </tr>\n    <tr>\n      <th>regiment</th>\n      <th></th>\n      <th></th>\n    </tr>\n  </thead>\n  <tbody>\n    <tr>\n      <th>Dragoons</th>\n      <td>3.5</td>\n      <td>27.5</td>\n    </tr>\n    <tr>\n      <th>Nighthawks</th>\n      <td>14.0</td>\n      <td>16.5</td>\n    </tr>\n    <tr>\n      <th>Scouts</th>\n      <td>2.5</td>\n      <td>2.5</td>\n    </tr>\n  </tbody>\n</table>\n</div>"
     },
     "metadata": {},
     "execution_count": 13
    }
   ],
   "source": [
    "regiment.groupby (['regiment','company']).preTestScore.mean().unstack()"
   ]
  },
  {
   "cell_type": "markdown",
   "metadata": {},
   "source": [
    "### Step 9. Group the entire dataframe by regiment and company"
   ]
  },
  {
   "cell_type": "code",
   "execution_count": 14,
   "metadata": {
    "collapsed": false
   },
   "outputs": [
    {
     "output_type": "execute_result",
     "data": {
      "text/plain": "                    preTestScore  postTestScore\nregiment   company                             \nDragoons   1st               3.5           47.5\n           2nd              27.5           75.5\nNighthawks 1st              14.0           59.5\n           2nd              16.5           59.5\nScouts     1st               2.5           66.0\n           2nd               2.5           66.0",
      "text/html": "<div>\n<style scoped>\n    .dataframe tbody tr th:only-of-type {\n        vertical-align: middle;\n    }\n\n    .dataframe tbody tr th {\n        vertical-align: top;\n    }\n\n    .dataframe thead th {\n        text-align: right;\n    }\n</style>\n<table border=\"1\" class=\"dataframe\">\n  <thead>\n    <tr style=\"text-align: right;\">\n      <th></th>\n      <th></th>\n      <th>preTestScore</th>\n      <th>postTestScore</th>\n    </tr>\n    <tr>\n      <th>regiment</th>\n      <th>company</th>\n      <th></th>\n      <th></th>\n    </tr>\n  </thead>\n  <tbody>\n    <tr>\n      <th rowspan=\"2\" valign=\"top\">Dragoons</th>\n      <th>1st</th>\n      <td>3.5</td>\n      <td>47.5</td>\n    </tr>\n    <tr>\n      <th>2nd</th>\n      <td>27.5</td>\n      <td>75.5</td>\n    </tr>\n    <tr>\n      <th rowspan=\"2\" valign=\"top\">Nighthawks</th>\n      <th>1st</th>\n      <td>14.0</td>\n      <td>59.5</td>\n    </tr>\n    <tr>\n      <th>2nd</th>\n      <td>16.5</td>\n      <td>59.5</td>\n    </tr>\n    <tr>\n      <th rowspan=\"2\" valign=\"top\">Scouts</th>\n      <th>1st</th>\n      <td>2.5</td>\n      <td>66.0</td>\n    </tr>\n    <tr>\n      <th>2nd</th>\n      <td>2.5</td>\n      <td>66.0</td>\n    </tr>\n  </tbody>\n</table>\n</div>"
     },
     "metadata": {},
     "execution_count": 14
    }
   ],
   "source": [
    "regiment.groupby(['regiment','company']).mean()"
   ]
  },
  {
   "cell_type": "markdown",
   "metadata": {},
   "source": [
    "### Step 10. What is the number of observations in each regiment and company"
   ]
  },
  {
   "cell_type": "code",
   "execution_count": 17,
   "metadata": {
    "collapsed": false
   },
   "outputs": [
    {
     "output_type": "execute_result",
     "data": {
      "text/plain": "regiment    company\nDragoons    1st        2\n            2nd        2\nNighthawks  1st        2\n            2nd        2\nScouts      1st        2\n            2nd        2\ndtype: int64"
     },
     "metadata": {},
     "execution_count": 17
    }
   ],
   "source": [
    "regiment.groupby(['regiment','company']).size()"
   ]
  },
  {
   "cell_type": "markdown",
   "metadata": {},
   "source": [
    "### Step 11. Iterate over a group and print the name and the whole data from the regiment"
   ]
  },
  {
   "cell_type": "code",
   "execution_count": 19,
   "metadata": {
    "collapsed": false
   },
   "outputs": [
    {
     "output_type": "execute_result",
     "data": {
      "text/plain": "   regiment company    name  preTestScore  postTestScore\n4  Dragoons     1st   Cooze             3             70\n5  Dragoons     1st   Jacon             4             25\n6  Dragoons     2nd  Ryaner            24             94\n7  Dragoons     2nd    Sone            31             57",
      "text/html": "<div>\n<style scoped>\n    .dataframe tbody tr th:only-of-type {\n        vertical-align: middle;\n    }\n\n    .dataframe tbody tr th {\n        vertical-align: top;\n    }\n\n    .dataframe thead th {\n        text-align: right;\n    }\n</style>\n<table border=\"1\" class=\"dataframe\">\n  <thead>\n    <tr style=\"text-align: right;\">\n      <th></th>\n      <th>regiment</th>\n      <th>company</th>\n      <th>name</th>\n      <th>preTestScore</th>\n      <th>postTestScore</th>\n    </tr>\n  </thead>\n  <tbody>\n    <tr>\n      <th>4</th>\n      <td>Dragoons</td>\n      <td>1st</td>\n      <td>Cooze</td>\n      <td>3</td>\n      <td>70</td>\n    </tr>\n    <tr>\n      <th>5</th>\n      <td>Dragoons</td>\n      <td>1st</td>\n      <td>Jacon</td>\n      <td>4</td>\n      <td>25</td>\n    </tr>\n    <tr>\n      <th>6</th>\n      <td>Dragoons</td>\n      <td>2nd</td>\n      <td>Ryaner</td>\n      <td>24</td>\n      <td>94</td>\n    </tr>\n    <tr>\n      <th>7</th>\n      <td>Dragoons</td>\n      <td>2nd</td>\n      <td>Sone</td>\n      <td>31</td>\n      <td>57</td>\n    </tr>\n  </tbody>\n</table>\n</div>"
     },
     "metadata": {},
     "execution_count": 19
    }
   ],
   "source": [
    "regiment.groupby('regiment').get_group('Dragoons')"
   ]
  },
  {
   "cell_type": "code",
   "execution_count": 22,
   "metadata": {
    "tags": []
   },
   "outputs": [
    {
     "output_type": "stream",
     "name": "stdout",
     "text": "Nighthawks\n     regiment company      name  preTestScore  postTestScore\n0  Nighthawks     1st    Miller             4             25\n1  Nighthawks     1st  Jacobson            24             94\n2  Nighthawks     2nd       Ali            31             57\n3  Nighthawks     2nd    Milner             2             62\nDragoons\n   regiment company    name  preTestScore  postTestScore\n4  Dragoons     1st   Cooze             3             70\n5  Dragoons     1st   Jacon             4             25\n6  Dragoons     2nd  Ryaner            24             94\n7  Dragoons     2nd    Sone            31             57\nScouts\n   regiment company   name  preTestScore  postTestScore\n8    Scouts     1st  Sloan             2             62\n9    Scouts     1st  Piger             3             70\n10   Scouts     2nd  Riani             2             62\n11   Scouts     2nd    Ali             3             70\n"
    }
   ],
   "source": [
    "for regname in regiment.regiment.unique():\n",
    "    print(regname)\n",
    "    print(regiment.groupby('regiment').get_group(regname))"
   ]
  },
  {
   "cell_type": "code",
   "execution_count": null,
   "metadata": {},
   "outputs": [],
   "source": []
  }
 ],
 "metadata": {
  "kernelspec": {
   "display_name": "Python 3.7.7 64-bit ('ds': conda)",
   "language": "python",
   "name": "python_defaultSpec_1599692702349"
  },
  "language_info": {
   "codemirror_mode": {
    "name": "ipython",
    "version": 2
   },
   "file_extension": ".py",
   "mimetype": "text/x-python",
   "name": "python",
   "nbconvert_exporter": "python",
   "pygments_lexer": "ipython2",
   "version": "3.7.7-final"
  }
 },
 "nbformat": 4,
 "nbformat_minor": 0
}