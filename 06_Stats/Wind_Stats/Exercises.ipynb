{
 "cells": [
  {
   "cell_type": "markdown",
   "metadata": {},
   "source": [
    "# Wind Statistics"
   ]
  },
  {
   "cell_type": "markdown",
   "metadata": {},
   "source": [
    "### Introduction:\n",
    "\n",
    "The data have been modified to contain some missing values, identified by NaN.  \n",
    "Using pandas should make this exercise\n",
    "easier, in particular for the bonus question.\n",
    "\n",
    "You should be able to perform all of these operations without using\n",
    "a for loop or other looping construct.\n",
    "\n",
    "\n",
    "1. The data in 'wind.data' has the following format:"
   ]
  },
  {
   "cell_type": "code",
   "execution_count": 434,
   "metadata": {
    "collapsed": false
   },
   "outputs": [
    {
     "data": {
      "text/plain": [
       "'\\nYr Mo Dy   RPT   VAL   ROS   KIL   SHA   BIR   DUB   CLA   MUL   CLO   BEL   MAL\\n61  1  1 15.04 14.96 13.17  9.29   NaN  9.87 13.67 10.25 10.83 12.58 18.50 15.04\\n61  1  2 14.71   NaN 10.83  6.50 12.62  7.67 11.50 10.04  9.79  9.67 17.54 13.83\\n61  1  3 18.50 16.88 12.33 10.13 11.17  6.17 11.25   NaN  8.50  7.67 12.75 12.71\\n'"
      ]
     },
     "execution_count": 434,
     "metadata": {},
     "output_type": "execute_result"
    }
   ],
   "source": [
    "\"\"\"\n",
    "Yr Mo Dy   RPT   VAL   ROS   KIL   SHA   BIR   DUB   CLA   MUL   CLO   BEL   MAL\n",
    "61  1  1 15.04 14.96 13.17  9.29   NaN  9.87 13.67 10.25 10.83 12.58 18.50 15.04\n",
    "61  1  2 14.71   NaN 10.83  6.50 12.62  7.67 11.50 10.04  9.79  9.67 17.54 13.83\n",
    "61  1  3 18.50 16.88 12.33 10.13 11.17  6.17 11.25   NaN  8.50  7.67 12.75 12.71\n",
    "\"\"\""
   ]
  },
  {
   "cell_type": "markdown",
   "metadata": {},
   "source": [
    "   The first three columns are year, month and day.  The\n",
    "   remaining 12 columns are average windspeeds in knots at 12\n",
    "   locations in Ireland on that day.   \n",
    "\n",
    "   More information about the dataset go [here](wind.desc)."
   ]
  },
  {
   "cell_type": "markdown",
   "metadata": {
    "collapsed": false
   },
   "source": [
    "### Step 1. Import the necessary libraries"
   ]
  },
  {
   "cell_type": "code",
   "execution_count": 1,
   "metadata": {
    "collapsed": false
   },
   "outputs": [],
   "source": [
    "import pandas as pd\n",
    "import numpy as np"
   ]
  },
  {
   "cell_type": "markdown",
   "metadata": {},
   "source": [
    "### Step 2. Import the dataset from this [address](https://raw.githubusercontent.com/guipsamora/pandas_exercises/master/06_Stats/Wind_Stats/wind.data)"
   ]
  },
  {
   "cell_type": "markdown",
   "metadata": {},
   "source": [
    "### Step 3. Assign it to a variable called data and replace the first 3 columns by a proper datetime index."
   ]
  },
  {
   "cell_type": "code",
   "execution_count": 87,
   "metadata": {
    "collapsed": false
   },
   "outputs": [],
   "source": [
    "data = pd.read_csv('https://raw.githubusercontent.com/guipsamora/pandas_exercises/master/06_Stats/Wind_Stats/wind.data',delim_whitespace=True)"
   ]
  },
  {
   "cell_type": "code",
   "execution_count": 88,
   "metadata": {},
   "outputs": [],
   "source": [
    "data.Yr = data.Yr + 1900"
   ]
  },
  {
   "cell_type": "code",
   "execution_count": 89,
   "metadata": {},
   "outputs": [],
   "source": [
    "data['Date'] = data[['Yr','Mo','Dy']].apply(lambda row: '-'.join([str(x) for x in row]),axis=1)"
   ]
  },
  {
   "cell_type": "code",
   "execution_count": 90,
   "metadata": {},
   "outputs": [
    {
     "output_type": "execute_result",
     "data": {
      "text/plain": "     Yr  Mo  Dy    RPT    VAL    ROS    KIL    SHA   BIR    DUB    CLA    MUL  \\\n0  1961   1   1  15.04  14.96  13.17   9.29    NaN  9.87  13.67  10.25  10.83   \n1  1961   1   2  14.71    NaN  10.83   6.50  12.62  7.67  11.50  10.04   9.79   \n2  1961   1   3  18.50  16.88  12.33  10.13  11.17  6.17  11.25    NaN   8.50   \n3  1961   1   4  10.58   6.63  11.75   4.58   4.54  2.88   8.63   1.79   5.83   \n4  1961   1   5  13.33  13.25  11.42   6.17  10.71  8.21  11.92   6.54  10.92   \n\n     CLO    BEL    MAL      Date  \n0  12.58  18.50  15.04  1961-1-1  \n1   9.67  17.54  13.83  1961-1-2  \n2   7.67  12.75  12.71  1961-1-3  \n3   5.88   5.46  10.88  1961-1-4  \n4  10.34  12.92  11.83  1961-1-5  ",
      "text/html": "<div>\n<style scoped>\n    .dataframe tbody tr th:only-of-type {\n        vertical-align: middle;\n    }\n\n    .dataframe tbody tr th {\n        vertical-align: top;\n    }\n\n    .dataframe thead th {\n        text-align: right;\n    }\n</style>\n<table border=\"1\" class=\"dataframe\">\n  <thead>\n    <tr style=\"text-align: right;\">\n      <th></th>\n      <th>Yr</th>\n      <th>Mo</th>\n      <th>Dy</th>\n      <th>RPT</th>\n      <th>VAL</th>\n      <th>ROS</th>\n      <th>KIL</th>\n      <th>SHA</th>\n      <th>BIR</th>\n      <th>DUB</th>\n      <th>CLA</th>\n      <th>MUL</th>\n      <th>CLO</th>\n      <th>BEL</th>\n      <th>MAL</th>\n      <th>Date</th>\n    </tr>\n  </thead>\n  <tbody>\n    <tr>\n      <th>0</th>\n      <td>1961</td>\n      <td>1</td>\n      <td>1</td>\n      <td>15.04</td>\n      <td>14.96</td>\n      <td>13.17</td>\n      <td>9.29</td>\n      <td>NaN</td>\n      <td>9.87</td>\n      <td>13.67</td>\n      <td>10.25</td>\n      <td>10.83</td>\n      <td>12.58</td>\n      <td>18.50</td>\n      <td>15.04</td>\n      <td>1961-1-1</td>\n    </tr>\n    <tr>\n      <th>1</th>\n      <td>1961</td>\n      <td>1</td>\n      <td>2</td>\n      <td>14.71</td>\n      <td>NaN</td>\n      <td>10.83</td>\n      <td>6.50</td>\n      <td>12.62</td>\n      <td>7.67</td>\n      <td>11.50</td>\n      <td>10.04</td>\n      <td>9.79</td>\n      <td>9.67</td>\n      <td>17.54</td>\n      <td>13.83</td>\n      <td>1961-1-2</td>\n    </tr>\n    <tr>\n      <th>2</th>\n      <td>1961</td>\n      <td>1</td>\n      <td>3</td>\n      <td>18.50</td>\n      <td>16.88</td>\n      <td>12.33</td>\n      <td>10.13</td>\n      <td>11.17</td>\n      <td>6.17</td>\n      <td>11.25</td>\n      <td>NaN</td>\n      <td>8.50</td>\n      <td>7.67</td>\n      <td>12.75</td>\n      <td>12.71</td>\n      <td>1961-1-3</td>\n    </tr>\n    <tr>\n      <th>3</th>\n      <td>1961</td>\n      <td>1</td>\n      <td>4</td>\n      <td>10.58</td>\n      <td>6.63</td>\n      <td>11.75</td>\n      <td>4.58</td>\n      <td>4.54</td>\n      <td>2.88</td>\n      <td>8.63</td>\n      <td>1.79</td>\n      <td>5.83</td>\n      <td>5.88</td>\n      <td>5.46</td>\n      <td>10.88</td>\n      <td>1961-1-4</td>\n    </tr>\n    <tr>\n      <th>4</th>\n      <td>1961</td>\n      <td>1</td>\n      <td>5</td>\n      <td>13.33</td>\n      <td>13.25</td>\n      <td>11.42</td>\n      <td>6.17</td>\n      <td>10.71</td>\n      <td>8.21</td>\n      <td>11.92</td>\n      <td>6.54</td>\n      <td>10.92</td>\n      <td>10.34</td>\n      <td>12.92</td>\n      <td>11.83</td>\n      <td>1961-1-5</td>\n    </tr>\n  </tbody>\n</table>\n</div>"
     },
     "metadata": {},
     "execution_count": 90
    }
   ],
   "source": [
    "data.head()"
   ]
  },
  {
   "cell_type": "code",
   "execution_count": 92,
   "metadata": {},
   "outputs": [
    {
     "output_type": "execute_result",
     "data": {
      "text/plain": "31"
     },
     "metadata": {},
     "execution_count": 92
    }
   ],
   "source": [
    "data.Dy.max()"
   ]
  },
  {
   "cell_type": "code",
   "execution_count": 93,
   "metadata": {},
   "outputs": [],
   "source": [
    "data.Date = pd.to_datetime(data.Date)"
   ]
  },
  {
   "cell_type": "code",
   "execution_count": 94,
   "metadata": {},
   "outputs": [
    {
     "output_type": "execute_result",
     "data": {
      "text/plain": "     Yr  Mo  Dy    RPT    VAL    ROS    KIL    SHA   BIR    DUB    CLA    MUL  \\\n0  1961   1   1  15.04  14.96  13.17   9.29    NaN  9.87  13.67  10.25  10.83   \n1  1961   1   2  14.71    NaN  10.83   6.50  12.62  7.67  11.50  10.04   9.79   \n2  1961   1   3  18.50  16.88  12.33  10.13  11.17  6.17  11.25    NaN   8.50   \n3  1961   1   4  10.58   6.63  11.75   4.58   4.54  2.88   8.63   1.79   5.83   \n4  1961   1   5  13.33  13.25  11.42   6.17  10.71  8.21  11.92   6.54  10.92   \n\n     CLO    BEL    MAL       Date  \n0  12.58  18.50  15.04 1961-01-01  \n1   9.67  17.54  13.83 1961-01-02  \n2   7.67  12.75  12.71 1961-01-03  \n3   5.88   5.46  10.88 1961-01-04  \n4  10.34  12.92  11.83 1961-01-05  ",
      "text/html": "<div>\n<style scoped>\n    .dataframe tbody tr th:only-of-type {\n        vertical-align: middle;\n    }\n\n    .dataframe tbody tr th {\n        vertical-align: top;\n    }\n\n    .dataframe thead th {\n        text-align: right;\n    }\n</style>\n<table border=\"1\" class=\"dataframe\">\n  <thead>\n    <tr style=\"text-align: right;\">\n      <th></th>\n      <th>Yr</th>\n      <th>Mo</th>\n      <th>Dy</th>\n      <th>RPT</th>\n      <th>VAL</th>\n      <th>ROS</th>\n      <th>KIL</th>\n      <th>SHA</th>\n      <th>BIR</th>\n      <th>DUB</th>\n      <th>CLA</th>\n      <th>MUL</th>\n      <th>CLO</th>\n      <th>BEL</th>\n      <th>MAL</th>\n      <th>Date</th>\n    </tr>\n  </thead>\n  <tbody>\n    <tr>\n      <th>0</th>\n      <td>1961</td>\n      <td>1</td>\n      <td>1</td>\n      <td>15.04</td>\n      <td>14.96</td>\n      <td>13.17</td>\n      <td>9.29</td>\n      <td>NaN</td>\n      <td>9.87</td>\n      <td>13.67</td>\n      <td>10.25</td>\n      <td>10.83</td>\n      <td>12.58</td>\n      <td>18.50</td>\n      <td>15.04</td>\n      <td>1961-01-01</td>\n    </tr>\n    <tr>\n      <th>1</th>\n      <td>1961</td>\n      <td>1</td>\n      <td>2</td>\n      <td>14.71</td>\n      <td>NaN</td>\n      <td>10.83</td>\n      <td>6.50</td>\n      <td>12.62</td>\n      <td>7.67</td>\n      <td>11.50</td>\n      <td>10.04</td>\n      <td>9.79</td>\n      <td>9.67</td>\n      <td>17.54</td>\n      <td>13.83</td>\n      <td>1961-01-02</td>\n    </tr>\n    <tr>\n      <th>2</th>\n      <td>1961</td>\n      <td>1</td>\n      <td>3</td>\n      <td>18.50</td>\n      <td>16.88</td>\n      <td>12.33</td>\n      <td>10.13</td>\n      <td>11.17</td>\n      <td>6.17</td>\n      <td>11.25</td>\n      <td>NaN</td>\n      <td>8.50</td>\n      <td>7.67</td>\n      <td>12.75</td>\n      <td>12.71</td>\n      <td>1961-01-03</td>\n    </tr>\n    <tr>\n      <th>3</th>\n      <td>1961</td>\n      <td>1</td>\n      <td>4</td>\n      <td>10.58</td>\n      <td>6.63</td>\n      <td>11.75</td>\n      <td>4.58</td>\n      <td>4.54</td>\n      <td>2.88</td>\n      <td>8.63</td>\n      <td>1.79</td>\n      <td>5.83</td>\n      <td>5.88</td>\n      <td>5.46</td>\n      <td>10.88</td>\n      <td>1961-01-04</td>\n    </tr>\n    <tr>\n      <th>4</th>\n      <td>1961</td>\n      <td>1</td>\n      <td>5</td>\n      <td>13.33</td>\n      <td>13.25</td>\n      <td>11.42</td>\n      <td>6.17</td>\n      <td>10.71</td>\n      <td>8.21</td>\n      <td>11.92</td>\n      <td>6.54</td>\n      <td>10.92</td>\n      <td>10.34</td>\n      <td>12.92</td>\n      <td>11.83</td>\n      <td>1961-01-05</td>\n    </tr>\n  </tbody>\n</table>\n</div>"
     },
     "metadata": {},
     "execution_count": 94
    }
   ],
   "source": [
    "data.head()"
   ]
  },
  {
   "cell_type": "code",
   "execution_count": 96,
   "metadata": {},
   "outputs": [],
   "source": [
    "data = data.set_index('Date',drop=True)\n",
    "data = data.drop(['Yr','Mo','Dy'],axis=1)"
   ]
  },
  {
   "cell_type": "code",
   "execution_count": 97,
   "metadata": {},
   "outputs": [
    {
     "output_type": "execute_result",
     "data": {
      "text/plain": "              RPT    VAL    ROS    KIL    SHA   BIR    DUB    CLA    MUL  \\\nDate                                                                       \n1961-01-01  15.04  14.96  13.17   9.29    NaN  9.87  13.67  10.25  10.83   \n1961-01-02  14.71    NaN  10.83   6.50  12.62  7.67  11.50  10.04   9.79   \n1961-01-03  18.50  16.88  12.33  10.13  11.17  6.17  11.25    NaN   8.50   \n1961-01-04  10.58   6.63  11.75   4.58   4.54  2.88   8.63   1.79   5.83   \n1961-01-05  13.33  13.25  11.42   6.17  10.71  8.21  11.92   6.54  10.92   \n\n              CLO    BEL    MAL  \nDate                             \n1961-01-01  12.58  18.50  15.04  \n1961-01-02   9.67  17.54  13.83  \n1961-01-03   7.67  12.75  12.71  \n1961-01-04   5.88   5.46  10.88  \n1961-01-05  10.34  12.92  11.83  ",
      "text/html": "<div>\n<style scoped>\n    .dataframe tbody tr th:only-of-type {\n        vertical-align: middle;\n    }\n\n    .dataframe tbody tr th {\n        vertical-align: top;\n    }\n\n    .dataframe thead th {\n        text-align: right;\n    }\n</style>\n<table border=\"1\" class=\"dataframe\">\n  <thead>\n    <tr style=\"text-align: right;\">\n      <th></th>\n      <th>RPT</th>\n      <th>VAL</th>\n      <th>ROS</th>\n      <th>KIL</th>\n      <th>SHA</th>\n      <th>BIR</th>\n      <th>DUB</th>\n      <th>CLA</th>\n      <th>MUL</th>\n      <th>CLO</th>\n      <th>BEL</th>\n      <th>MAL</th>\n    </tr>\n    <tr>\n      <th>Date</th>\n      <th></th>\n      <th></th>\n      <th></th>\n      <th></th>\n      <th></th>\n      <th></th>\n      <th></th>\n      <th></th>\n      <th></th>\n      <th></th>\n      <th></th>\n      <th></th>\n    </tr>\n  </thead>\n  <tbody>\n    <tr>\n      <th>1961-01-01</th>\n      <td>15.04</td>\n      <td>14.96</td>\n      <td>13.17</td>\n      <td>9.29</td>\n      <td>NaN</td>\n      <td>9.87</td>\n      <td>13.67</td>\n      <td>10.25</td>\n      <td>10.83</td>\n      <td>12.58</td>\n      <td>18.50</td>\n      <td>15.04</td>\n    </tr>\n    <tr>\n      <th>1961-01-02</th>\n      <td>14.71</td>\n      <td>NaN</td>\n      <td>10.83</td>\n      <td>6.50</td>\n      <td>12.62</td>\n      <td>7.67</td>\n      <td>11.50</td>\n      <td>10.04</td>\n      <td>9.79</td>\n      <td>9.67</td>\n      <td>17.54</td>\n      <td>13.83</td>\n    </tr>\n    <tr>\n      <th>1961-01-03</th>\n      <td>18.50</td>\n      <td>16.88</td>\n      <td>12.33</td>\n      <td>10.13</td>\n      <td>11.17</td>\n      <td>6.17</td>\n      <td>11.25</td>\n      <td>NaN</td>\n      <td>8.50</td>\n      <td>7.67</td>\n      <td>12.75</td>\n      <td>12.71</td>\n    </tr>\n    <tr>\n      <th>1961-01-04</th>\n      <td>10.58</td>\n      <td>6.63</td>\n      <td>11.75</td>\n      <td>4.58</td>\n      <td>4.54</td>\n      <td>2.88</td>\n      <td>8.63</td>\n      <td>1.79</td>\n      <td>5.83</td>\n      <td>5.88</td>\n      <td>5.46</td>\n      <td>10.88</td>\n    </tr>\n    <tr>\n      <th>1961-01-05</th>\n      <td>13.33</td>\n      <td>13.25</td>\n      <td>11.42</td>\n      <td>6.17</td>\n      <td>10.71</td>\n      <td>8.21</td>\n      <td>11.92</td>\n      <td>6.54</td>\n      <td>10.92</td>\n      <td>10.34</td>\n      <td>12.92</td>\n      <td>11.83</td>\n    </tr>\n  </tbody>\n</table>\n</div>"
     },
     "metadata": {},
     "execution_count": 97
    }
   ],
   "source": [
    "data.head()"
   ]
  },
  {
   "cell_type": "markdown",
   "metadata": {},
   "source": [
    "### Step 4. Year 2061? Do we really have data from this year? Create a function to fix it and apply it."
   ]
  },
  {
   "cell_type": "code",
   "execution_count": null,
   "metadata": {
    "collapsed": false
   },
   "outputs": [],
   "source": []
  },
  {
   "cell_type": "markdown",
   "metadata": {},
   "source": [
    "### Step 5. Set the right dates as the index. Pay attention at the data type, it should be datetime64[ns]."
   ]
  },
  {
   "cell_type": "code",
   "execution_count": 98,
   "metadata": {
    "collapsed": false
   },
   "outputs": [
    {
     "output_type": "execute_result",
     "data": {
      "text/plain": "array(['1961-01-01T00:00:00.000000000', '1961-01-02T00:00:00.000000000',\n       '1961-01-03T00:00:00.000000000', ...,\n       '1978-12-29T00:00:00.000000000', '1978-12-30T00:00:00.000000000',\n       '1978-12-31T00:00:00.000000000'], dtype='datetime64[ns]')"
     },
     "metadata": {},
     "execution_count": 98
    }
   ],
   "source": [
    "data.index.values"
   ]
  },
  {
   "cell_type": "code",
   "execution_count": 14,
   "metadata": {},
   "outputs": [
    {
     "output_type": "execute_result",
     "data": {
      "text/plain": "dtype('<M8[ns]')"
     },
     "metadata": {},
     "execution_count": 14
    }
   ],
   "source": [
    "pd.Series(data.index).dtype"
   ]
  },
  {
   "cell_type": "markdown",
   "metadata": {},
   "source": [
    "### Step 6. Compute how many values are missing for each location over the entire record.  \n",
    "#### They should be ignored in all calculations below. "
   ]
  },
  {
   "cell_type": "code",
   "execution_count": 99,
   "metadata": {
    "collapsed": false
   },
   "outputs": [
    {
     "output_type": "execute_result",
     "data": {
      "text/plain": "RPT    6\nVAL    3\nROS    2\nKIL    5\nSHA    2\nBIR    0\nDUB    3\nCLA    2\nMUL    3\nCLO    1\nBEL    0\nMAL    4\ndtype: int64"
     },
     "metadata": {},
     "execution_count": 99
    }
   ],
   "source": [
    "data.isnull().sum()"
   ]
  },
  {
   "cell_type": "markdown",
   "metadata": {},
   "source": [
    "### Step 7. Compute how many non-missing values there are in total."
   ]
  },
  {
   "cell_type": "code",
   "execution_count": 49,
   "metadata": {
    "collapsed": false,
    "scrolled": true
   },
   "outputs": [
    {
     "output_type": "execute_result",
     "data": {
      "text/plain": "78857"
     },
     "metadata": {},
     "execution_count": 49
    }
   ],
   "source": [
    "data.notnull().sum().sum()"
   ]
  },
  {
   "cell_type": "markdown",
   "metadata": {},
   "source": [
    "### Step 8. Calculate the mean windspeeds of the windspeeds over all the locations and all the times.\n",
    "#### A single number for the entire dataset."
   ]
  },
  {
   "cell_type": "code",
   "execution_count": 100,
   "metadata": {
    "collapsed": false
   },
   "outputs": [
    {
     "output_type": "execute_result",
     "data": {
      "text/plain": "10.227982360836924"
     },
     "metadata": {},
     "execution_count": 100
    }
   ],
   "source": [
    "data.mean().mean()"
   ]
  },
  {
   "cell_type": "code",
   "execution_count": 101,
   "metadata": {},
   "outputs": [
    {
     "output_type": "execute_result",
     "data": {
      "text/plain": "10.227883764282167"
     },
     "metadata": {},
     "execution_count": 101
    }
   ],
   "source": [
    "data.sum().sum()/data.notnull().sum().sum()"
   ]
  },
  {
   "cell_type": "markdown",
   "metadata": {},
   "source": [
    "### Step 9. Create a DataFrame called loc_stats and calculate the min, max and mean windspeeds and standard deviations of the windspeeds at each location over all the days \n",
    "\n",
    "#### A different set of numbers for each location."
   ]
  },
  {
   "cell_type": "code",
   "execution_count": 102,
   "metadata": {
    "collapsed": false
   },
   "outputs": [
    {
     "output_type": "execute_result",
     "data": {
      "text/plain": "               RPT          VAL          ROS          KIL          SHA  \\\ncount  6568.000000  6571.000000  6572.000000  6569.000000  6572.000000   \nmean     12.362987    10.644314    11.660526     6.306468    10.455834   \nstd       5.618413     5.267356     5.008450     3.605811     4.936125   \nmin       0.670000     0.210000     1.500000     0.000000     0.130000   \n25%       8.120000     6.670000     8.000000     3.580000     6.750000   \n50%      11.710000    10.170000    10.920000     5.750000     9.960000   \n75%      15.920000    14.040000    14.670000     8.420000    13.540000   \nmax      35.800000    33.370000    33.840000    28.460000    37.540000   \n\n               BIR          DUB          CLA          MUL          CLO  \\\ncount  6574.000000  6571.000000  6572.000000  6571.000000  6573.000000   \nmean      7.092254     9.797343     8.495053     8.493590     8.707332   \nstd       3.968683     4.977555     4.499449     4.166872     4.503954   \nmin       0.000000     0.000000     0.000000     0.000000     0.040000   \n25%       4.000000     6.000000     5.090000     5.370000     5.330000   \n50%       6.830000     9.210000     8.080000     8.170000     8.290000   \n75%       9.670000    12.960000    11.420000    11.190000    11.630000   \nmax      26.160000    30.370000    31.080000    25.880000    28.210000   \n\n               BEL          MAL  \ncount  6574.000000  6570.000000  \nmean     13.121007    15.599079  \nstd       5.835037     6.699794  \nmin       0.130000     0.670000  \n25%       8.710000    10.710000  \n50%      12.500000    15.000000  \n75%      16.880000    19.830000  \nmax      42.380000    42.540000  ",
      "text/html": "<div>\n<style scoped>\n    .dataframe tbody tr th:only-of-type {\n        vertical-align: middle;\n    }\n\n    .dataframe tbody tr th {\n        vertical-align: top;\n    }\n\n    .dataframe thead th {\n        text-align: right;\n    }\n</style>\n<table border=\"1\" class=\"dataframe\">\n  <thead>\n    <tr style=\"text-align: right;\">\n      <th></th>\n      <th>RPT</th>\n      <th>VAL</th>\n      <th>ROS</th>\n      <th>KIL</th>\n      <th>SHA</th>\n      <th>BIR</th>\n      <th>DUB</th>\n      <th>CLA</th>\n      <th>MUL</th>\n      <th>CLO</th>\n      <th>BEL</th>\n      <th>MAL</th>\n    </tr>\n  </thead>\n  <tbody>\n    <tr>\n      <th>count</th>\n      <td>6568.000000</td>\n      <td>6571.000000</td>\n      <td>6572.000000</td>\n      <td>6569.000000</td>\n      <td>6572.000000</td>\n      <td>6574.000000</td>\n      <td>6571.000000</td>\n      <td>6572.000000</td>\n      <td>6571.000000</td>\n      <td>6573.000000</td>\n      <td>6574.000000</td>\n      <td>6570.000000</td>\n    </tr>\n    <tr>\n      <th>mean</th>\n      <td>12.362987</td>\n      <td>10.644314</td>\n      <td>11.660526</td>\n      <td>6.306468</td>\n      <td>10.455834</td>\n      <td>7.092254</td>\n      <td>9.797343</td>\n      <td>8.495053</td>\n      <td>8.493590</td>\n      <td>8.707332</td>\n      <td>13.121007</td>\n      <td>15.599079</td>\n    </tr>\n    <tr>\n      <th>std</th>\n      <td>5.618413</td>\n      <td>5.267356</td>\n      <td>5.008450</td>\n      <td>3.605811</td>\n      <td>4.936125</td>\n      <td>3.968683</td>\n      <td>4.977555</td>\n      <td>4.499449</td>\n      <td>4.166872</td>\n      <td>4.503954</td>\n      <td>5.835037</td>\n      <td>6.699794</td>\n    </tr>\n    <tr>\n      <th>min</th>\n      <td>0.670000</td>\n      <td>0.210000</td>\n      <td>1.500000</td>\n      <td>0.000000</td>\n      <td>0.130000</td>\n      <td>0.000000</td>\n      <td>0.000000</td>\n      <td>0.000000</td>\n      <td>0.000000</td>\n      <td>0.040000</td>\n      <td>0.130000</td>\n      <td>0.670000</td>\n    </tr>\n    <tr>\n      <th>25%</th>\n      <td>8.120000</td>\n      <td>6.670000</td>\n      <td>8.000000</td>\n      <td>3.580000</td>\n      <td>6.750000</td>\n      <td>4.000000</td>\n      <td>6.000000</td>\n      <td>5.090000</td>\n      <td>5.370000</td>\n      <td>5.330000</td>\n      <td>8.710000</td>\n      <td>10.710000</td>\n    </tr>\n    <tr>\n      <th>50%</th>\n      <td>11.710000</td>\n      <td>10.170000</td>\n      <td>10.920000</td>\n      <td>5.750000</td>\n      <td>9.960000</td>\n      <td>6.830000</td>\n      <td>9.210000</td>\n      <td>8.080000</td>\n      <td>8.170000</td>\n      <td>8.290000</td>\n      <td>12.500000</td>\n      <td>15.000000</td>\n    </tr>\n    <tr>\n      <th>75%</th>\n      <td>15.920000</td>\n      <td>14.040000</td>\n      <td>14.670000</td>\n      <td>8.420000</td>\n      <td>13.540000</td>\n      <td>9.670000</td>\n      <td>12.960000</td>\n      <td>11.420000</td>\n      <td>11.190000</td>\n      <td>11.630000</td>\n      <td>16.880000</td>\n      <td>19.830000</td>\n    </tr>\n    <tr>\n      <th>max</th>\n      <td>35.800000</td>\n      <td>33.370000</td>\n      <td>33.840000</td>\n      <td>28.460000</td>\n      <td>37.540000</td>\n      <td>26.160000</td>\n      <td>30.370000</td>\n      <td>31.080000</td>\n      <td>25.880000</td>\n      <td>28.210000</td>\n      <td>42.380000</td>\n      <td>42.540000</td>\n    </tr>\n  </tbody>\n</table>\n</div>"
     },
     "metadata": {},
     "execution_count": 102
    }
   ],
   "source": [
    "data.apply(lambda x: x[x.notnull()].describe())"
   ]
  },
  {
   "cell_type": "code",
   "execution_count": 103,
   "metadata": {},
   "outputs": [],
   "source": [
    "loc_stats = data.describe(percentiles=[])"
   ]
  },
  {
   "cell_type": "markdown",
   "metadata": {},
   "source": [
    "### Step 10. Create a DataFrame called day_stats and calculate the min, max and mean windspeed and standard deviations of the windspeeds across all the locations at each day.\n",
    "\n",
    "#### A different set of numbers for each day."
   ]
  },
  {
   "cell_type": "code",
   "execution_count": 113,
   "metadata": {
    "collapsed": false
   },
   "outputs": [],
   "source": [
    "mins = data.min(axis=1)\n",
    "maxs = data.max(axis=1)\n",
    "means = data.mean(axis=1)\n",
    "stds = data.std(axis=1)\n",
    "\n",
    "day_stats = pd.concat([mins,maxs,means,stds],axis=1)\n",
    "day_stats.columns = ['min','max','mean','std']"
   ]
  },
  {
   "cell_type": "code",
   "execution_count": 114,
   "metadata": {},
   "outputs": [
    {
     "output_type": "execute_result",
     "data": {
      "text/plain": "             min    max       mean       std\nDate                                        \n1961-01-01  9.29  18.50  13.018182  2.808875\n1961-01-02  6.50  17.54  11.336364  3.188994\n1961-01-03  6.17  18.50  11.641818  3.681912\n1961-01-04  1.79  11.75   6.619167  3.198126\n1961-01-05  6.17  13.33  10.630000  2.445356\n...          ...    ...        ...       ...\n1978-12-27  8.08  40.08  16.708333  7.868076\n1978-12-28  5.00  41.46  15.150000  9.687857\n1978-12-29  8.71  29.58  14.890000  5.756836\n1978-12-30  9.13  28.79  15.367500  5.540437\n1978-12-31  9.59  27.29  15.402500  5.702483\n\n[6574 rows x 4 columns]",
      "text/html": "<div>\n<style scoped>\n    .dataframe tbody tr th:only-of-type {\n        vertical-align: middle;\n    }\n\n    .dataframe tbody tr th {\n        vertical-align: top;\n    }\n\n    .dataframe thead th {\n        text-align: right;\n    }\n</style>\n<table border=\"1\" class=\"dataframe\">\n  <thead>\n    <tr style=\"text-align: right;\">\n      <th></th>\n      <th>min</th>\n      <th>max</th>\n      <th>mean</th>\n      <th>std</th>\n    </tr>\n    <tr>\n      <th>Date</th>\n      <th></th>\n      <th></th>\n      <th></th>\n      <th></th>\n    </tr>\n  </thead>\n  <tbody>\n    <tr>\n      <th>1961-01-01</th>\n      <td>9.29</td>\n      <td>18.50</td>\n      <td>13.018182</td>\n      <td>2.808875</td>\n    </tr>\n    <tr>\n      <th>1961-01-02</th>\n      <td>6.50</td>\n      <td>17.54</td>\n      <td>11.336364</td>\n      <td>3.188994</td>\n    </tr>\n    <tr>\n      <th>1961-01-03</th>\n      <td>6.17</td>\n      <td>18.50</td>\n      <td>11.641818</td>\n      <td>3.681912</td>\n    </tr>\n    <tr>\n      <th>1961-01-04</th>\n      <td>1.79</td>\n      <td>11.75</td>\n      <td>6.619167</td>\n      <td>3.198126</td>\n    </tr>\n    <tr>\n      <th>1961-01-05</th>\n      <td>6.17</td>\n      <td>13.33</td>\n      <td>10.630000</td>\n      <td>2.445356</td>\n    </tr>\n    <tr>\n      <th>...</th>\n      <td>...</td>\n      <td>...</td>\n      <td>...</td>\n      <td>...</td>\n    </tr>\n    <tr>\n      <th>1978-12-27</th>\n      <td>8.08</td>\n      <td>40.08</td>\n      <td>16.708333</td>\n      <td>7.868076</td>\n    </tr>\n    <tr>\n      <th>1978-12-28</th>\n      <td>5.00</td>\n      <td>41.46</td>\n      <td>15.150000</td>\n      <td>9.687857</td>\n    </tr>\n    <tr>\n      <th>1978-12-29</th>\n      <td>8.71</td>\n      <td>29.58</td>\n      <td>14.890000</td>\n      <td>5.756836</td>\n    </tr>\n    <tr>\n      <th>1978-12-30</th>\n      <td>9.13</td>\n      <td>28.79</td>\n      <td>15.367500</td>\n      <td>5.540437</td>\n    </tr>\n    <tr>\n      <th>1978-12-31</th>\n      <td>9.59</td>\n      <td>27.29</td>\n      <td>15.402500</td>\n      <td>5.702483</td>\n    </tr>\n  </tbody>\n</table>\n<p>6574 rows × 4 columns</p>\n</div>"
     },
     "metadata": {},
     "execution_count": 114
    }
   ],
   "source": [
    "day_stats"
   ]
  },
  {
   "cell_type": "markdown",
   "metadata": {},
   "source": [
    "### Step 11. Find the average windspeed in January for each location.  \n",
    "#### Treat January 1961 and January 1962 both as January."
   ]
  },
  {
   "cell_type": "code",
   "execution_count": 115,
   "metadata": {
    "collapsed": false
   },
   "outputs": [
    {
     "output_type": "execute_result",
     "data": {
      "text/plain": "RPT    14.847325\nVAL    12.914560\nROS    13.299624\nKIL     7.199498\nSHA    11.667734\nBIR     8.054839\nDUB    11.819355\nCLA     9.512047\nMUL     9.543208\nCLO    10.053566\nBEL    14.550520\nMAL    18.028763\ndtype: float64"
     },
     "metadata": {},
     "execution_count": 115
    }
   ],
   "source": [
    "data.loc[data.index.month==1,:].mean()"
   ]
  },
  {
   "cell_type": "markdown",
   "metadata": {},
   "source": [
    "### Step 12. Downsample the record to a yearly frequency for each location."
   ]
  },
  {
   "cell_type": "code",
   "execution_count": 116,
   "metadata": {
    "collapsed": false
   },
   "outputs": [
    {
     "output_type": "execute_result",
     "data": {
      "text/plain": "                  RPT        VAL        ROS       KIL        SHA        BIR  \\\nDate                                                                          \n1961-01-01  14.841333  11.988333  13.431613  7.736774  11.072759   8.588065   \n1961-02-01  16.269286  14.975357  14.441481  9.230741  13.852143  10.937500   \n1961-03-01  10.890000  11.296452  10.752903  7.284000  10.509355   8.866774   \n1961-04-01  10.722667   9.427667   9.998000  5.830667   8.435000   6.495000   \n1961-05-01   9.860968   8.850000  10.818065  5.905333   9.490323   6.574839   \n...               ...        ...        ...       ...        ...        ...   \n1978-08-01   9.645161   8.259355   9.032258  4.502903   7.368065   5.935161   \n1978-09-01  10.913667  10.895000  10.635000  5.725000  10.372000   9.278333   \n1978-10-01   9.897742   8.670968   9.295806  4.721290   8.525161   6.774194   \n1978-11-01  16.151667  14.802667  13.508000  7.317333  11.475000   8.743000   \n1978-12-01  16.175484  13.748065  15.635161  7.094839  11.398710   9.241613   \n\n                  DUB        CLA        MUL        CLO        BEL        MAL  \nDate                                                                          \n1961-01-01  11.184839   9.245333   9.085806  10.107419  13.880968  14.703226  \n1961-02-01  11.890714  11.846071  11.821429  12.714286  18.583214  15.411786  \n1961-03-01   9.644194   9.829677  10.294138  11.251935  16.410968  15.720000  \n1961-04-01   6.925333   7.094667   7.342333   7.237000  11.147333  10.278333  \n1961-05-01   7.604000   8.177097   8.039355   8.499355  11.900323  12.011613  \n...               ...        ...        ...        ...        ...        ...  \n1978-08-01   5.650323   5.417742   7.241290   5.536774  10.466774  12.054194  \n1978-09-01  10.790333   9.583000  10.069333   8.939000  15.680333  19.391333  \n1978-10-01   8.115484   7.337742   8.297742   8.243871  13.776774  17.150000  \n1978-11-01  11.492333   9.657333  10.701333  10.676000  17.404667  20.723000  \n1978-12-01  12.077419  10.194839  10.616774  11.028710  13.859677  21.371613  \n\n[216 rows x 12 columns]",
      "text/html": "<div>\n<style scoped>\n    .dataframe tbody tr th:only-of-type {\n        vertical-align: middle;\n    }\n\n    .dataframe tbody tr th {\n        vertical-align: top;\n    }\n\n    .dataframe thead th {\n        text-align: right;\n    }\n</style>\n<table border=\"1\" class=\"dataframe\">\n  <thead>\n    <tr style=\"text-align: right;\">\n      <th></th>\n      <th>RPT</th>\n      <th>VAL</th>\n      <th>ROS</th>\n      <th>KIL</th>\n      <th>SHA</th>\n      <th>BIR</th>\n      <th>DUB</th>\n      <th>CLA</th>\n      <th>MUL</th>\n      <th>CLO</th>\n      <th>BEL</th>\n      <th>MAL</th>\n    </tr>\n    <tr>\n      <th>Date</th>\n      <th></th>\n      <th></th>\n      <th></th>\n      <th></th>\n      <th></th>\n      <th></th>\n      <th></th>\n      <th></th>\n      <th></th>\n      <th></th>\n      <th></th>\n      <th></th>\n    </tr>\n  </thead>\n  <tbody>\n    <tr>\n      <th>1961-01-01</th>\n      <td>14.841333</td>\n      <td>11.988333</td>\n      <td>13.431613</td>\n      <td>7.736774</td>\n      <td>11.072759</td>\n      <td>8.588065</td>\n      <td>11.184839</td>\n      <td>9.245333</td>\n      <td>9.085806</td>\n      <td>10.107419</td>\n      <td>13.880968</td>\n      <td>14.703226</td>\n    </tr>\n    <tr>\n      <th>1961-02-01</th>\n      <td>16.269286</td>\n      <td>14.975357</td>\n      <td>14.441481</td>\n      <td>9.230741</td>\n      <td>13.852143</td>\n      <td>10.937500</td>\n      <td>11.890714</td>\n      <td>11.846071</td>\n      <td>11.821429</td>\n      <td>12.714286</td>\n      <td>18.583214</td>\n      <td>15.411786</td>\n    </tr>\n    <tr>\n      <th>1961-03-01</th>\n      <td>10.890000</td>\n      <td>11.296452</td>\n      <td>10.752903</td>\n      <td>7.284000</td>\n      <td>10.509355</td>\n      <td>8.866774</td>\n      <td>9.644194</td>\n      <td>9.829677</td>\n      <td>10.294138</td>\n      <td>11.251935</td>\n      <td>16.410968</td>\n      <td>15.720000</td>\n    </tr>\n    <tr>\n      <th>1961-04-01</th>\n      <td>10.722667</td>\n      <td>9.427667</td>\n      <td>9.998000</td>\n      <td>5.830667</td>\n      <td>8.435000</td>\n      <td>6.495000</td>\n      <td>6.925333</td>\n      <td>7.094667</td>\n      <td>7.342333</td>\n      <td>7.237000</td>\n      <td>11.147333</td>\n      <td>10.278333</td>\n    </tr>\n    <tr>\n      <th>1961-05-01</th>\n      <td>9.860968</td>\n      <td>8.850000</td>\n      <td>10.818065</td>\n      <td>5.905333</td>\n      <td>9.490323</td>\n      <td>6.574839</td>\n      <td>7.604000</td>\n      <td>8.177097</td>\n      <td>8.039355</td>\n      <td>8.499355</td>\n      <td>11.900323</td>\n      <td>12.011613</td>\n    </tr>\n    <tr>\n      <th>...</th>\n      <td>...</td>\n      <td>...</td>\n      <td>...</td>\n      <td>...</td>\n      <td>...</td>\n      <td>...</td>\n      <td>...</td>\n      <td>...</td>\n      <td>...</td>\n      <td>...</td>\n      <td>...</td>\n      <td>...</td>\n    </tr>\n    <tr>\n      <th>1978-08-01</th>\n      <td>9.645161</td>\n      <td>8.259355</td>\n      <td>9.032258</td>\n      <td>4.502903</td>\n      <td>7.368065</td>\n      <td>5.935161</td>\n      <td>5.650323</td>\n      <td>5.417742</td>\n      <td>7.241290</td>\n      <td>5.536774</td>\n      <td>10.466774</td>\n      <td>12.054194</td>\n    </tr>\n    <tr>\n      <th>1978-09-01</th>\n      <td>10.913667</td>\n      <td>10.895000</td>\n      <td>10.635000</td>\n      <td>5.725000</td>\n      <td>10.372000</td>\n      <td>9.278333</td>\n      <td>10.790333</td>\n      <td>9.583000</td>\n      <td>10.069333</td>\n      <td>8.939000</td>\n      <td>15.680333</td>\n      <td>19.391333</td>\n    </tr>\n    <tr>\n      <th>1978-10-01</th>\n      <td>9.897742</td>\n      <td>8.670968</td>\n      <td>9.295806</td>\n      <td>4.721290</td>\n      <td>8.525161</td>\n      <td>6.774194</td>\n      <td>8.115484</td>\n      <td>7.337742</td>\n      <td>8.297742</td>\n      <td>8.243871</td>\n      <td>13.776774</td>\n      <td>17.150000</td>\n    </tr>\n    <tr>\n      <th>1978-11-01</th>\n      <td>16.151667</td>\n      <td>14.802667</td>\n      <td>13.508000</td>\n      <td>7.317333</td>\n      <td>11.475000</td>\n      <td>8.743000</td>\n      <td>11.492333</td>\n      <td>9.657333</td>\n      <td>10.701333</td>\n      <td>10.676000</td>\n      <td>17.404667</td>\n      <td>20.723000</td>\n    </tr>\n    <tr>\n      <th>1978-12-01</th>\n      <td>16.175484</td>\n      <td>13.748065</td>\n      <td>15.635161</td>\n      <td>7.094839</td>\n      <td>11.398710</td>\n      <td>9.241613</td>\n      <td>12.077419</td>\n      <td>10.194839</td>\n      <td>10.616774</td>\n      <td>11.028710</td>\n      <td>13.859677</td>\n      <td>21.371613</td>\n    </tr>\n  </tbody>\n</table>\n<p>216 rows × 12 columns</p>\n</div>"
     },
     "metadata": {},
     "execution_count": 116
    }
   ],
   "source": [
    "data.resample('MS').mean()"
   ]
  },
  {
   "cell_type": "code",
   "execution_count": 117,
   "metadata": {},
   "outputs": [
    {
     "output_type": "execute_result",
     "data": {
      "text/plain": "                  RPT        VAL        ROS       KIL        SHA        BIR  \\\nDate                                                                          \n1961-01-31  14.841333  11.988333  13.431613  7.736774  11.072759   8.588065   \n1961-02-28  16.269286  14.975357  14.441481  9.230741  13.852143  10.937500   \n1961-03-31  10.890000  11.296452  10.752903  7.284000  10.509355   8.866774   \n1961-04-30  10.722667   9.427667   9.998000  5.830667   8.435000   6.495000   \n1961-05-31   9.860968   8.850000  10.818065  5.905333   9.490323   6.574839   \n...               ...        ...        ...       ...        ...        ...   \n1978-08-31   9.645161   8.259355   9.032258  4.502903   7.368065   5.935161   \n1978-09-30  10.913667  10.895000  10.635000  5.725000  10.372000   9.278333   \n1978-10-31   9.897742   8.670968   9.295806  4.721290   8.525161   6.774194   \n1978-11-30  16.151667  14.802667  13.508000  7.317333  11.475000   8.743000   \n1978-12-31  16.175484  13.748065  15.635161  7.094839  11.398710   9.241613   \n\n                  DUB        CLA        MUL        CLO        BEL        MAL  \nDate                                                                          \n1961-01-31  11.184839   9.245333   9.085806  10.107419  13.880968  14.703226  \n1961-02-28  11.890714  11.846071  11.821429  12.714286  18.583214  15.411786  \n1961-03-31   9.644194   9.829677  10.294138  11.251935  16.410968  15.720000  \n1961-04-30   6.925333   7.094667   7.342333   7.237000  11.147333  10.278333  \n1961-05-31   7.604000   8.177097   8.039355   8.499355  11.900323  12.011613  \n...               ...        ...        ...        ...        ...        ...  \n1978-08-31   5.650323   5.417742   7.241290   5.536774  10.466774  12.054194  \n1978-09-30  10.790333   9.583000  10.069333   8.939000  15.680333  19.391333  \n1978-10-31   8.115484   7.337742   8.297742   8.243871  13.776774  17.150000  \n1978-11-30  11.492333   9.657333  10.701333  10.676000  17.404667  20.723000  \n1978-12-31  12.077419  10.194839  10.616774  11.028710  13.859677  21.371613  \n\n[216 rows x 12 columns]",
      "text/html": "<div>\n<style scoped>\n    .dataframe tbody tr th:only-of-type {\n        vertical-align: middle;\n    }\n\n    .dataframe tbody tr th {\n        vertical-align: top;\n    }\n\n    .dataframe thead th {\n        text-align: right;\n    }\n</style>\n<table border=\"1\" class=\"dataframe\">\n  <thead>\n    <tr style=\"text-align: right;\">\n      <th></th>\n      <th>RPT</th>\n      <th>VAL</th>\n      <th>ROS</th>\n      <th>KIL</th>\n      <th>SHA</th>\n      <th>BIR</th>\n      <th>DUB</th>\n      <th>CLA</th>\n      <th>MUL</th>\n      <th>CLO</th>\n      <th>BEL</th>\n      <th>MAL</th>\n    </tr>\n    <tr>\n      <th>Date</th>\n      <th></th>\n      <th></th>\n      <th></th>\n      <th></th>\n      <th></th>\n      <th></th>\n      <th></th>\n      <th></th>\n      <th></th>\n      <th></th>\n      <th></th>\n      <th></th>\n    </tr>\n  </thead>\n  <tbody>\n    <tr>\n      <th>1961-01-31</th>\n      <td>14.841333</td>\n      <td>11.988333</td>\n      <td>13.431613</td>\n      <td>7.736774</td>\n      <td>11.072759</td>\n      <td>8.588065</td>\n      <td>11.184839</td>\n      <td>9.245333</td>\n      <td>9.085806</td>\n      <td>10.107419</td>\n      <td>13.880968</td>\n      <td>14.703226</td>\n    </tr>\n    <tr>\n      <th>1961-02-28</th>\n      <td>16.269286</td>\n      <td>14.975357</td>\n      <td>14.441481</td>\n      <td>9.230741</td>\n      <td>13.852143</td>\n      <td>10.937500</td>\n      <td>11.890714</td>\n      <td>11.846071</td>\n      <td>11.821429</td>\n      <td>12.714286</td>\n      <td>18.583214</td>\n      <td>15.411786</td>\n    </tr>\n    <tr>\n      <th>1961-03-31</th>\n      <td>10.890000</td>\n      <td>11.296452</td>\n      <td>10.752903</td>\n      <td>7.284000</td>\n      <td>10.509355</td>\n      <td>8.866774</td>\n      <td>9.644194</td>\n      <td>9.829677</td>\n      <td>10.294138</td>\n      <td>11.251935</td>\n      <td>16.410968</td>\n      <td>15.720000</td>\n    </tr>\n    <tr>\n      <th>1961-04-30</th>\n      <td>10.722667</td>\n      <td>9.427667</td>\n      <td>9.998000</td>\n      <td>5.830667</td>\n      <td>8.435000</td>\n      <td>6.495000</td>\n      <td>6.925333</td>\n      <td>7.094667</td>\n      <td>7.342333</td>\n      <td>7.237000</td>\n      <td>11.147333</td>\n      <td>10.278333</td>\n    </tr>\n    <tr>\n      <th>1961-05-31</th>\n      <td>9.860968</td>\n      <td>8.850000</td>\n      <td>10.818065</td>\n      <td>5.905333</td>\n      <td>9.490323</td>\n      <td>6.574839</td>\n      <td>7.604000</td>\n      <td>8.177097</td>\n      <td>8.039355</td>\n      <td>8.499355</td>\n      <td>11.900323</td>\n      <td>12.011613</td>\n    </tr>\n    <tr>\n      <th>...</th>\n      <td>...</td>\n      <td>...</td>\n      <td>...</td>\n      <td>...</td>\n      <td>...</td>\n      <td>...</td>\n      <td>...</td>\n      <td>...</td>\n      <td>...</td>\n      <td>...</td>\n      <td>...</td>\n      <td>...</td>\n    </tr>\n    <tr>\n      <th>1978-08-31</th>\n      <td>9.645161</td>\n      <td>8.259355</td>\n      <td>9.032258</td>\n      <td>4.502903</td>\n      <td>7.368065</td>\n      <td>5.935161</td>\n      <td>5.650323</td>\n      <td>5.417742</td>\n      <td>7.241290</td>\n      <td>5.536774</td>\n      <td>10.466774</td>\n      <td>12.054194</td>\n    </tr>\n    <tr>\n      <th>1978-09-30</th>\n      <td>10.913667</td>\n      <td>10.895000</td>\n      <td>10.635000</td>\n      <td>5.725000</td>\n      <td>10.372000</td>\n      <td>9.278333</td>\n      <td>10.790333</td>\n      <td>9.583000</td>\n      <td>10.069333</td>\n      <td>8.939000</td>\n      <td>15.680333</td>\n      <td>19.391333</td>\n    </tr>\n    <tr>\n      <th>1978-10-31</th>\n      <td>9.897742</td>\n      <td>8.670968</td>\n      <td>9.295806</td>\n      <td>4.721290</td>\n      <td>8.525161</td>\n      <td>6.774194</td>\n      <td>8.115484</td>\n      <td>7.337742</td>\n      <td>8.297742</td>\n      <td>8.243871</td>\n      <td>13.776774</td>\n      <td>17.150000</td>\n    </tr>\n    <tr>\n      <th>1978-11-30</th>\n      <td>16.151667</td>\n      <td>14.802667</td>\n      <td>13.508000</td>\n      <td>7.317333</td>\n      <td>11.475000</td>\n      <td>8.743000</td>\n      <td>11.492333</td>\n      <td>9.657333</td>\n      <td>10.701333</td>\n      <td>10.676000</td>\n      <td>17.404667</td>\n      <td>20.723000</td>\n    </tr>\n    <tr>\n      <th>1978-12-31</th>\n      <td>16.175484</td>\n      <td>13.748065</td>\n      <td>15.635161</td>\n      <td>7.094839</td>\n      <td>11.398710</td>\n      <td>9.241613</td>\n      <td>12.077419</td>\n      <td>10.194839</td>\n      <td>10.616774</td>\n      <td>11.028710</td>\n      <td>13.859677</td>\n      <td>21.371613</td>\n    </tr>\n  </tbody>\n</table>\n<p>216 rows × 12 columns</p>\n</div>"
     },
     "metadata": {},
     "execution_count": 117
    }
   ],
   "source": [
    "data.apply(lambda x: x.dropna().resample('1M').mean())"
   ]
  },
  {
   "cell_type": "code",
   "execution_count": 118,
   "metadata": {},
   "outputs": [
    {
     "output_type": "execute_result",
     "data": {
      "text/plain": "(72, 12)"
     },
     "metadata": {},
     "execution_count": 118
    }
   ],
   "source": [
    "data.groupby(data.index.to_period('Q')).mean().shape"
   ]
  },
  {
   "cell_type": "code",
   "execution_count": 119,
   "metadata": {
    "tags": []
   },
   "outputs": [
    {
     "output_type": "execute_result",
     "data": {
      "text/plain": "DatetimeIndex(['1961-01-01', '1961-01-02', '1961-01-03', '1961-01-04',\n               '1961-01-05', '1961-01-06', '1961-01-07', '1961-01-08',\n               '1961-01-09', '1961-01-10',\n               ...\n               '1961-12-22', '1961-12-23', '1961-12-24', '1961-12-25',\n               '1961-12-26', '1961-12-27', '1961-12-28', '1961-12-29',\n               '1961-12-30', '1961-12-31'],\n              dtype='datetime64[ns]', name='Date', length=365, freq=None)"
     },
     "metadata": {},
     "execution_count": 119
    }
   ],
   "source": [
    "data.index[data.index.year==1961]"
   ]
  },
  {
   "cell_type": "markdown",
   "metadata": {},
   "source": [
    "### Step 13. Downsample the record to a monthly frequency for each location."
   ]
  },
  {
   "cell_type": "code",
   "execution_count": 120,
   "metadata": {},
   "outputs": [
    {
     "output_type": "execute_result",
     "data": {
      "text/plain": "                  RPT        VAL        ROS       KIL        SHA        BIR  \\\nDate                                                                          \n1961-01-31  14.841333  11.988333  13.431613  7.736774  11.072759   8.588065   \n1961-02-28  16.269286  14.975357  14.441481  9.230741  13.852143  10.937500   \n1961-03-31  10.890000  11.296452  10.752903  7.284000  10.509355   8.866774   \n1961-04-30  10.722667   9.427667   9.998000  5.830667   8.435000   6.495000   \n1961-05-31   9.860968   8.850000  10.818065  5.905333   9.490323   6.574839   \n...               ...        ...        ...       ...        ...        ...   \n1978-08-31   9.645161   8.259355   9.032258  4.502903   7.368065   5.935161   \n1978-09-30  10.913667  10.895000  10.635000  5.725000  10.372000   9.278333   \n1978-10-31   9.897742   8.670968   9.295806  4.721290   8.525161   6.774194   \n1978-11-30  16.151667  14.802667  13.508000  7.317333  11.475000   8.743000   \n1978-12-31  16.175484  13.748065  15.635161  7.094839  11.398710   9.241613   \n\n                  DUB        CLA        MUL        CLO        BEL        MAL  \nDate                                                                          \n1961-01-31  11.184839   9.245333   9.085806  10.107419  13.880968  14.703226  \n1961-02-28  11.890714  11.846071  11.821429  12.714286  18.583214  15.411786  \n1961-03-31   9.644194   9.829677  10.294138  11.251935  16.410968  15.720000  \n1961-04-30   6.925333   7.094667   7.342333   7.237000  11.147333  10.278333  \n1961-05-31   7.604000   8.177097   8.039355   8.499355  11.900323  12.011613  \n...               ...        ...        ...        ...        ...        ...  \n1978-08-31   5.650323   5.417742   7.241290   5.536774  10.466774  12.054194  \n1978-09-30  10.790333   9.583000  10.069333   8.939000  15.680333  19.391333  \n1978-10-31   8.115484   7.337742   8.297742   8.243871  13.776774  17.150000  \n1978-11-30  11.492333   9.657333  10.701333  10.676000  17.404667  20.723000  \n1978-12-31  12.077419  10.194839  10.616774  11.028710  13.859677  21.371613  \n\n[216 rows x 12 columns]",
      "text/html": "<div>\n<style scoped>\n    .dataframe tbody tr th:only-of-type {\n        vertical-align: middle;\n    }\n\n    .dataframe tbody tr th {\n        vertical-align: top;\n    }\n\n    .dataframe thead th {\n        text-align: right;\n    }\n</style>\n<table border=\"1\" class=\"dataframe\">\n  <thead>\n    <tr style=\"text-align: right;\">\n      <th></th>\n      <th>RPT</th>\n      <th>VAL</th>\n      <th>ROS</th>\n      <th>KIL</th>\n      <th>SHA</th>\n      <th>BIR</th>\n      <th>DUB</th>\n      <th>CLA</th>\n      <th>MUL</th>\n      <th>CLO</th>\n      <th>BEL</th>\n      <th>MAL</th>\n    </tr>\n    <tr>\n      <th>Date</th>\n      <th></th>\n      <th></th>\n      <th></th>\n      <th></th>\n      <th></th>\n      <th></th>\n      <th></th>\n      <th></th>\n      <th></th>\n      <th></th>\n      <th></th>\n      <th></th>\n    </tr>\n  </thead>\n  <tbody>\n    <tr>\n      <th>1961-01-31</th>\n      <td>14.841333</td>\n      <td>11.988333</td>\n      <td>13.431613</td>\n      <td>7.736774</td>\n      <td>11.072759</td>\n      <td>8.588065</td>\n      <td>11.184839</td>\n      <td>9.245333</td>\n      <td>9.085806</td>\n      <td>10.107419</td>\n      <td>13.880968</td>\n      <td>14.703226</td>\n    </tr>\n    <tr>\n      <th>1961-02-28</th>\n      <td>16.269286</td>\n      <td>14.975357</td>\n      <td>14.441481</td>\n      <td>9.230741</td>\n      <td>13.852143</td>\n      <td>10.937500</td>\n      <td>11.890714</td>\n      <td>11.846071</td>\n      <td>11.821429</td>\n      <td>12.714286</td>\n      <td>18.583214</td>\n      <td>15.411786</td>\n    </tr>\n    <tr>\n      <th>1961-03-31</th>\n      <td>10.890000</td>\n      <td>11.296452</td>\n      <td>10.752903</td>\n      <td>7.284000</td>\n      <td>10.509355</td>\n      <td>8.866774</td>\n      <td>9.644194</td>\n      <td>9.829677</td>\n      <td>10.294138</td>\n      <td>11.251935</td>\n      <td>16.410968</td>\n      <td>15.720000</td>\n    </tr>\n    <tr>\n      <th>1961-04-30</th>\n      <td>10.722667</td>\n      <td>9.427667</td>\n      <td>9.998000</td>\n      <td>5.830667</td>\n      <td>8.435000</td>\n      <td>6.495000</td>\n      <td>6.925333</td>\n      <td>7.094667</td>\n      <td>7.342333</td>\n      <td>7.237000</td>\n      <td>11.147333</td>\n      <td>10.278333</td>\n    </tr>\n    <tr>\n      <th>1961-05-31</th>\n      <td>9.860968</td>\n      <td>8.850000</td>\n      <td>10.818065</td>\n      <td>5.905333</td>\n      <td>9.490323</td>\n      <td>6.574839</td>\n      <td>7.604000</td>\n      <td>8.177097</td>\n      <td>8.039355</td>\n      <td>8.499355</td>\n      <td>11.900323</td>\n      <td>12.011613</td>\n    </tr>\n    <tr>\n      <th>...</th>\n      <td>...</td>\n      <td>...</td>\n      <td>...</td>\n      <td>...</td>\n      <td>...</td>\n      <td>...</td>\n      <td>...</td>\n      <td>...</td>\n      <td>...</td>\n      <td>...</td>\n      <td>...</td>\n      <td>...</td>\n    </tr>\n    <tr>\n      <th>1978-08-31</th>\n      <td>9.645161</td>\n      <td>8.259355</td>\n      <td>9.032258</td>\n      <td>4.502903</td>\n      <td>7.368065</td>\n      <td>5.935161</td>\n      <td>5.650323</td>\n      <td>5.417742</td>\n      <td>7.241290</td>\n      <td>5.536774</td>\n      <td>10.466774</td>\n      <td>12.054194</td>\n    </tr>\n    <tr>\n      <th>1978-09-30</th>\n      <td>10.913667</td>\n      <td>10.895000</td>\n      <td>10.635000</td>\n      <td>5.725000</td>\n      <td>10.372000</td>\n      <td>9.278333</td>\n      <td>10.790333</td>\n      <td>9.583000</td>\n      <td>10.069333</td>\n      <td>8.939000</td>\n      <td>15.680333</td>\n      <td>19.391333</td>\n    </tr>\n    <tr>\n      <th>1978-10-31</th>\n      <td>9.897742</td>\n      <td>8.670968</td>\n      <td>9.295806</td>\n      <td>4.721290</td>\n      <td>8.525161</td>\n      <td>6.774194</td>\n      <td>8.115484</td>\n      <td>7.337742</td>\n      <td>8.297742</td>\n      <td>8.243871</td>\n      <td>13.776774</td>\n      <td>17.150000</td>\n    </tr>\n    <tr>\n      <th>1978-11-30</th>\n      <td>16.151667</td>\n      <td>14.802667</td>\n      <td>13.508000</td>\n      <td>7.317333</td>\n      <td>11.475000</td>\n      <td>8.743000</td>\n      <td>11.492333</td>\n      <td>9.657333</td>\n      <td>10.701333</td>\n      <td>10.676000</td>\n      <td>17.404667</td>\n      <td>20.723000</td>\n    </tr>\n    <tr>\n      <th>1978-12-31</th>\n      <td>16.175484</td>\n      <td>13.748065</td>\n      <td>15.635161</td>\n      <td>7.094839</td>\n      <td>11.398710</td>\n      <td>9.241613</td>\n      <td>12.077419</td>\n      <td>10.194839</td>\n      <td>10.616774</td>\n      <td>11.028710</td>\n      <td>13.859677</td>\n      <td>21.371613</td>\n    </tr>\n  </tbody>\n</table>\n<p>216 rows × 12 columns</p>\n</div>"
     },
     "metadata": {},
     "execution_count": 120
    }
   ],
   "source": [
    "data.resample('1M').mean()"
   ]
  },
  {
   "cell_type": "code",
   "execution_count": null,
   "metadata": {},
   "outputs": [],
   "source": []
  },
  {
   "cell_type": "markdown",
   "metadata": {},
   "source": [
    "### Step 14. Downsample the record to a weekly frequency for each location."
   ]
  },
  {
   "cell_type": "code",
   "execution_count": 121,
   "metadata": {
    "collapsed": false
   },
   "outputs": [
    {
     "output_type": "execute_result",
     "data": {
      "text/plain": "                  RPT        VAL        ROS        KIL        SHA        BIR  \\\nDate                                                                           \n1961-01-01  15.040000  14.960000  13.170000   9.290000        NaN   9.870000   \n1961-01-08  13.541429  11.486667  10.487143   6.417143   9.474286   6.435714   \n1961-01-15  12.468571   8.967143  11.958571   4.630000   7.351429   5.072857   \n1961-01-22  13.204286   9.862857  12.982857   6.328571   8.966667   7.417143   \n1961-01-29  19.880000  16.141429  18.225714  12.720000  17.432857  14.828571   \n...               ...        ...        ...        ...        ...        ...   \n1978-12-03  14.934286  11.232857  13.941429   5.565714  10.215714   8.618571   \n1978-12-10  20.740000  19.190000  17.034286   9.777143  15.287143  12.774286   \n1978-12-17  16.758571  14.692857  14.987143   6.917143  11.397143   7.272857   \n1978-12-24  11.155714   8.008571  13.172857   4.004286   7.825714   6.290000   \n1978-12-31  14.951429  11.801429  16.035714   6.507143   9.660000   8.620000   \n\n                  DUB        CLA        MUL        CLO        BEL        MAL  \nDate                                                                          \n1961-01-01  13.670000  10.250000  10.830000  12.580000  18.500000  15.040000  \n1961-01-08  11.061429   6.616667   8.434286   8.497143  12.481429  13.238571  \n1961-01-15   7.535714   6.820000   5.712857   7.571429  11.125714  11.024286  \n1961-01-22   9.257143   7.875714   7.145714   8.124286   9.821429  11.434286  \n1961-01-29  15.528571  15.160000  14.480000  15.640000  20.930000  22.530000  \n...               ...        ...        ...        ...        ...        ...  \n1978-12-03   9.642857   7.685714   9.011429   9.547143  11.835714  18.728571  \n1978-12-10  14.437143  12.488571  13.870000  14.082857  18.517143  23.061429  \n1978-12-17  10.208571   7.967143   9.168571   8.565714  11.102857  15.562857  \n1978-12-24   7.798571   8.667143   7.151429   8.072857  11.845714  18.977143  \n1978-12-31  13.708571  10.477143  10.868571  11.471429  12.947143  26.844286  \n\n[940 rows x 12 columns]",
      "text/html": "<div>\n<style scoped>\n    .dataframe tbody tr th:only-of-type {\n        vertical-align: middle;\n    }\n\n    .dataframe tbody tr th {\n        vertical-align: top;\n    }\n\n    .dataframe thead th {\n        text-align: right;\n    }\n</style>\n<table border=\"1\" class=\"dataframe\">\n  <thead>\n    <tr style=\"text-align: right;\">\n      <th></th>\n      <th>RPT</th>\n      <th>VAL</th>\n      <th>ROS</th>\n      <th>KIL</th>\n      <th>SHA</th>\n      <th>BIR</th>\n      <th>DUB</th>\n      <th>CLA</th>\n      <th>MUL</th>\n      <th>CLO</th>\n      <th>BEL</th>\n      <th>MAL</th>\n    </tr>\n    <tr>\n      <th>Date</th>\n      <th></th>\n      <th></th>\n      <th></th>\n      <th></th>\n      <th></th>\n      <th></th>\n      <th></th>\n      <th></th>\n      <th></th>\n      <th></th>\n      <th></th>\n      <th></th>\n    </tr>\n  </thead>\n  <tbody>\n    <tr>\n      <th>1961-01-01</th>\n      <td>15.040000</td>\n      <td>14.960000</td>\n      <td>13.170000</td>\n      <td>9.290000</td>\n      <td>NaN</td>\n      <td>9.870000</td>\n      <td>13.670000</td>\n      <td>10.250000</td>\n      <td>10.830000</td>\n      <td>12.580000</td>\n      <td>18.500000</td>\n      <td>15.040000</td>\n    </tr>\n    <tr>\n      <th>1961-01-08</th>\n      <td>13.541429</td>\n      <td>11.486667</td>\n      <td>10.487143</td>\n      <td>6.417143</td>\n      <td>9.474286</td>\n      <td>6.435714</td>\n      <td>11.061429</td>\n      <td>6.616667</td>\n      <td>8.434286</td>\n      <td>8.497143</td>\n      <td>12.481429</td>\n      <td>13.238571</td>\n    </tr>\n    <tr>\n      <th>1961-01-15</th>\n      <td>12.468571</td>\n      <td>8.967143</td>\n      <td>11.958571</td>\n      <td>4.630000</td>\n      <td>7.351429</td>\n      <td>5.072857</td>\n      <td>7.535714</td>\n      <td>6.820000</td>\n      <td>5.712857</td>\n      <td>7.571429</td>\n      <td>11.125714</td>\n      <td>11.024286</td>\n    </tr>\n    <tr>\n      <th>1961-01-22</th>\n      <td>13.204286</td>\n      <td>9.862857</td>\n      <td>12.982857</td>\n      <td>6.328571</td>\n      <td>8.966667</td>\n      <td>7.417143</td>\n      <td>9.257143</td>\n      <td>7.875714</td>\n      <td>7.145714</td>\n      <td>8.124286</td>\n      <td>9.821429</td>\n      <td>11.434286</td>\n    </tr>\n    <tr>\n      <th>1961-01-29</th>\n      <td>19.880000</td>\n      <td>16.141429</td>\n      <td>18.225714</td>\n      <td>12.720000</td>\n      <td>17.432857</td>\n      <td>14.828571</td>\n      <td>15.528571</td>\n      <td>15.160000</td>\n      <td>14.480000</td>\n      <td>15.640000</td>\n      <td>20.930000</td>\n      <td>22.530000</td>\n    </tr>\n    <tr>\n      <th>...</th>\n      <td>...</td>\n      <td>...</td>\n      <td>...</td>\n      <td>...</td>\n      <td>...</td>\n      <td>...</td>\n      <td>...</td>\n      <td>...</td>\n      <td>...</td>\n      <td>...</td>\n      <td>...</td>\n      <td>...</td>\n    </tr>\n    <tr>\n      <th>1978-12-03</th>\n      <td>14.934286</td>\n      <td>11.232857</td>\n      <td>13.941429</td>\n      <td>5.565714</td>\n      <td>10.215714</td>\n      <td>8.618571</td>\n      <td>9.642857</td>\n      <td>7.685714</td>\n      <td>9.011429</td>\n      <td>9.547143</td>\n      <td>11.835714</td>\n      <td>18.728571</td>\n    </tr>\n    <tr>\n      <th>1978-12-10</th>\n      <td>20.740000</td>\n      <td>19.190000</td>\n      <td>17.034286</td>\n      <td>9.777143</td>\n      <td>15.287143</td>\n      <td>12.774286</td>\n      <td>14.437143</td>\n      <td>12.488571</td>\n      <td>13.870000</td>\n      <td>14.082857</td>\n      <td>18.517143</td>\n      <td>23.061429</td>\n    </tr>\n    <tr>\n      <th>1978-12-17</th>\n      <td>16.758571</td>\n      <td>14.692857</td>\n      <td>14.987143</td>\n      <td>6.917143</td>\n      <td>11.397143</td>\n      <td>7.272857</td>\n      <td>10.208571</td>\n      <td>7.967143</td>\n      <td>9.168571</td>\n      <td>8.565714</td>\n      <td>11.102857</td>\n      <td>15.562857</td>\n    </tr>\n    <tr>\n      <th>1978-12-24</th>\n      <td>11.155714</td>\n      <td>8.008571</td>\n      <td>13.172857</td>\n      <td>4.004286</td>\n      <td>7.825714</td>\n      <td>6.290000</td>\n      <td>7.798571</td>\n      <td>8.667143</td>\n      <td>7.151429</td>\n      <td>8.072857</td>\n      <td>11.845714</td>\n      <td>18.977143</td>\n    </tr>\n    <tr>\n      <th>1978-12-31</th>\n      <td>14.951429</td>\n      <td>11.801429</td>\n      <td>16.035714</td>\n      <td>6.507143</td>\n      <td>9.660000</td>\n      <td>8.620000</td>\n      <td>13.708571</td>\n      <td>10.477143</td>\n      <td>10.868571</td>\n      <td>11.471429</td>\n      <td>12.947143</td>\n      <td>26.844286</td>\n    </tr>\n  </tbody>\n</table>\n<p>940 rows × 12 columns</p>\n</div>"
     },
     "metadata": {},
     "execution_count": 121
    }
   ],
   "source": [
    "data.resample('1W').mean()"
   ]
  },
  {
   "cell_type": "markdown",
   "metadata": {},
   "source": [
    "### Step 15. Calculate the min, max and mean windspeeds and standard deviations of the windspeeds across all locations for each week (assume that the first week starts on January 2 1961) for the first 52 weeks."
   ]
  },
  {
   "cell_type": "code",
   "execution_count": 166,
   "metadata": {},
   "outputs": [
    {
     "output_type": "execute_result",
     "data": {
      "text/plain": "              RPT                                VAL                    \\\n              min    max       mean       std    min    max       mean   \nDate                                                                     \n1961-01-08  10.58  18.50  14.124286  2.406483   6.63  16.88  12.355000   \n1961-01-15   9.04  19.75  12.314286  3.600240   3.54  12.08   8.978571   \n1961-01-22   4.92  19.83  13.554286  5.137479   3.42  14.37  10.404286   \n1961-01-29   9.59  25.04  18.410000  5.736381   5.88  20.79  13.565714   \n1961-02-05  10.58  24.21  15.965000  5.181613   9.46  24.21  16.482857   \n...           ...    ...        ...       ...    ...    ...        ...   \n1978-12-10   9.92  29.33  20.210000  6.989523  12.54  24.79  19.018571   \n1978-12-17  13.13  24.92  18.908571  4.247907   8.92  24.04  17.454286   \n1978-12-24   6.21  16.62  11.327143  3.408997   3.21  13.29   7.662857   \n1978-12-31   7.21  18.50  13.285714  4.176541   5.46  16.96  10.118571   \n1979-01-07  20.33  20.33  20.330000       NaN  17.41  17.41  17.410000   \n\n                        ROS         ...        CLO              BEL         \\\n                 std    min    max  ...       mean       std    min    max   \nDate                                ...                                      \n1961-01-08  4.062456   9.50  13.17  ...   8.800000  2.221704   5.46  18.50   \n1961-01-15  3.152065   7.08  19.50  ...   8.261429  4.109556   5.25  20.71   \n1961-01-22  3.427671   7.29  20.79  ...   7.857143  4.875950   6.50  15.92   \n1961-01-29  5.146089   9.92  25.84  ...  13.861429  4.248037  10.88  26.08   \n1961-02-05  6.108316   9.04  22.29  ...  10.434286  4.801097   9.17  27.71   \n...              ...    ...    ...  ...        ...       ...    ...    ...   \n1978-12-10  4.837201   7.21  25.37  ...  14.272857  5.622164   9.54  23.04   \n1978-12-17  6.068500  12.71  18.05  ...  10.494286  5.442514   5.21  26.08   \n1978-12-24  4.222826   8.04  22.21  ...   6.781429  3.139095   3.21  19.79   \n1978-12-31  4.465622   7.83  21.29  ...  11.518571  5.533894   1.21  21.79   \n1979-01-07       NaN  27.29  27.29  ...  11.380000       NaN  12.08  12.08   \n\n                                   MAL                               \n                 mean       std    min    max       mean        std  \nDate                                                                 \n1961-01-08  12.750000  4.691848  10.88  15.04  13.035714   1.380940  \n1961-01-15  12.422857  5.634926   5.17  16.92  12.411429   4.653269  \n1961-01-22   9.344286  3.683372   6.75  17.96  10.981429   4.581468  \n1961-01-29  18.525714  5.438749   9.92  27.63  20.607143   6.089455  \n1961-02-05  15.210000  6.528088   7.17  23.38  13.180000   6.130095  \n...               ...       ...    ...    ...        ...        ...  \n1978-12-10  17.851429  4.766440  15.34  34.59  23.608571   8.133313  \n1978-12-17  14.114286  8.036205   6.92  22.83  17.397143   5.645596  \n1978-12-24  10.857143  6.303612   9.08  21.50  15.744286   5.372761  \n1978-12-31  12.924286  7.526464  11.96  41.46  28.220000  11.532902  \n1979-01-07  12.080000       NaN  22.08  22.08  22.080000        NaN  \n\n[940 rows x 48 columns]",
      "text/html": "<div>\n<style scoped>\n    .dataframe tbody tr th:only-of-type {\n        vertical-align: middle;\n    }\n\n    .dataframe tbody tr th {\n        vertical-align: top;\n    }\n\n    .dataframe thead tr th {\n        text-align: left;\n    }\n\n    .dataframe thead tr:last-of-type th {\n        text-align: right;\n    }\n</style>\n<table border=\"1\" class=\"dataframe\">\n  <thead>\n    <tr>\n      <th></th>\n      <th colspan=\"4\" halign=\"left\">RPT</th>\n      <th colspan=\"4\" halign=\"left\">VAL</th>\n      <th colspan=\"2\" halign=\"left\">ROS</th>\n      <th>...</th>\n      <th colspan=\"2\" halign=\"left\">CLO</th>\n      <th colspan=\"4\" halign=\"left\">BEL</th>\n      <th colspan=\"4\" halign=\"left\">MAL</th>\n    </tr>\n    <tr>\n      <th></th>\n      <th>min</th>\n      <th>max</th>\n      <th>mean</th>\n      <th>std</th>\n      <th>min</th>\n      <th>max</th>\n      <th>mean</th>\n      <th>std</th>\n      <th>min</th>\n      <th>max</th>\n      <th>...</th>\n      <th>mean</th>\n      <th>std</th>\n      <th>min</th>\n      <th>max</th>\n      <th>mean</th>\n      <th>std</th>\n      <th>min</th>\n      <th>max</th>\n      <th>mean</th>\n      <th>std</th>\n    </tr>\n    <tr>\n      <th>Date</th>\n      <th></th>\n      <th></th>\n      <th></th>\n      <th></th>\n      <th></th>\n      <th></th>\n      <th></th>\n      <th></th>\n      <th></th>\n      <th></th>\n      <th></th>\n      <th></th>\n      <th></th>\n      <th></th>\n      <th></th>\n      <th></th>\n      <th></th>\n      <th></th>\n      <th></th>\n      <th></th>\n      <th></th>\n    </tr>\n  </thead>\n  <tbody>\n    <tr>\n      <th>1961-01-08</th>\n      <td>10.58</td>\n      <td>18.50</td>\n      <td>14.124286</td>\n      <td>2.406483</td>\n      <td>6.63</td>\n      <td>16.88</td>\n      <td>12.355000</td>\n      <td>4.062456</td>\n      <td>9.50</td>\n      <td>13.17</td>\n      <td>...</td>\n      <td>8.800000</td>\n      <td>2.221704</td>\n      <td>5.46</td>\n      <td>18.50</td>\n      <td>12.750000</td>\n      <td>4.691848</td>\n      <td>10.88</td>\n      <td>15.04</td>\n      <td>13.035714</td>\n      <td>1.380940</td>\n    </tr>\n    <tr>\n      <th>1961-01-15</th>\n      <td>9.04</td>\n      <td>19.75</td>\n      <td>12.314286</td>\n      <td>3.600240</td>\n      <td>3.54</td>\n      <td>12.08</td>\n      <td>8.978571</td>\n      <td>3.152065</td>\n      <td>7.08</td>\n      <td>19.50</td>\n      <td>...</td>\n      <td>8.261429</td>\n      <td>4.109556</td>\n      <td>5.25</td>\n      <td>20.71</td>\n      <td>12.422857</td>\n      <td>5.634926</td>\n      <td>5.17</td>\n      <td>16.92</td>\n      <td>12.411429</td>\n      <td>4.653269</td>\n    </tr>\n    <tr>\n      <th>1961-01-22</th>\n      <td>4.92</td>\n      <td>19.83</td>\n      <td>13.554286</td>\n      <td>5.137479</td>\n      <td>3.42</td>\n      <td>14.37</td>\n      <td>10.404286</td>\n      <td>3.427671</td>\n      <td>7.29</td>\n      <td>20.79</td>\n      <td>...</td>\n      <td>7.857143</td>\n      <td>4.875950</td>\n      <td>6.50</td>\n      <td>15.92</td>\n      <td>9.344286</td>\n      <td>3.683372</td>\n      <td>6.75</td>\n      <td>17.96</td>\n      <td>10.981429</td>\n      <td>4.581468</td>\n    </tr>\n    <tr>\n      <th>1961-01-29</th>\n      <td>9.59</td>\n      <td>25.04</td>\n      <td>18.410000</td>\n      <td>5.736381</td>\n      <td>5.88</td>\n      <td>20.79</td>\n      <td>13.565714</td>\n      <td>5.146089</td>\n      <td>9.92</td>\n      <td>25.84</td>\n      <td>...</td>\n      <td>13.861429</td>\n      <td>4.248037</td>\n      <td>10.88</td>\n      <td>26.08</td>\n      <td>18.525714</td>\n      <td>5.438749</td>\n      <td>9.92</td>\n      <td>27.63</td>\n      <td>20.607143</td>\n      <td>6.089455</td>\n    </tr>\n    <tr>\n      <th>1961-02-05</th>\n      <td>10.58</td>\n      <td>24.21</td>\n      <td>15.965000</td>\n      <td>5.181613</td>\n      <td>9.46</td>\n      <td>24.21</td>\n      <td>16.482857</td>\n      <td>6.108316</td>\n      <td>9.04</td>\n      <td>22.29</td>\n      <td>...</td>\n      <td>10.434286</td>\n      <td>4.801097</td>\n      <td>9.17</td>\n      <td>27.71</td>\n      <td>15.210000</td>\n      <td>6.528088</td>\n      <td>7.17</td>\n      <td>23.38</td>\n      <td>13.180000</td>\n      <td>6.130095</td>\n    </tr>\n    <tr>\n      <th>...</th>\n      <td>...</td>\n      <td>...</td>\n      <td>...</td>\n      <td>...</td>\n      <td>...</td>\n      <td>...</td>\n      <td>...</td>\n      <td>...</td>\n      <td>...</td>\n      <td>...</td>\n      <td>...</td>\n      <td>...</td>\n      <td>...</td>\n      <td>...</td>\n      <td>...</td>\n      <td>...</td>\n      <td>...</td>\n      <td>...</td>\n      <td>...</td>\n      <td>...</td>\n      <td>...</td>\n    </tr>\n    <tr>\n      <th>1978-12-10</th>\n      <td>9.92</td>\n      <td>29.33</td>\n      <td>20.210000</td>\n      <td>6.989523</td>\n      <td>12.54</td>\n      <td>24.79</td>\n      <td>19.018571</td>\n      <td>4.837201</td>\n      <td>7.21</td>\n      <td>25.37</td>\n      <td>...</td>\n      <td>14.272857</td>\n      <td>5.622164</td>\n      <td>9.54</td>\n      <td>23.04</td>\n      <td>17.851429</td>\n      <td>4.766440</td>\n      <td>15.34</td>\n      <td>34.59</td>\n      <td>23.608571</td>\n      <td>8.133313</td>\n    </tr>\n    <tr>\n      <th>1978-12-17</th>\n      <td>13.13</td>\n      <td>24.92</td>\n      <td>18.908571</td>\n      <td>4.247907</td>\n      <td>8.92</td>\n      <td>24.04</td>\n      <td>17.454286</td>\n      <td>6.068500</td>\n      <td>12.71</td>\n      <td>18.05</td>\n      <td>...</td>\n      <td>10.494286</td>\n      <td>5.442514</td>\n      <td>5.21</td>\n      <td>26.08</td>\n      <td>14.114286</td>\n      <td>8.036205</td>\n      <td>6.92</td>\n      <td>22.83</td>\n      <td>17.397143</td>\n      <td>5.645596</td>\n    </tr>\n    <tr>\n      <th>1978-12-24</th>\n      <td>6.21</td>\n      <td>16.62</td>\n      <td>11.327143</td>\n      <td>3.408997</td>\n      <td>3.21</td>\n      <td>13.29</td>\n      <td>7.662857</td>\n      <td>4.222826</td>\n      <td>8.04</td>\n      <td>22.21</td>\n      <td>...</td>\n      <td>6.781429</td>\n      <td>3.139095</td>\n      <td>3.21</td>\n      <td>19.79</td>\n      <td>10.857143</td>\n      <td>6.303612</td>\n      <td>9.08</td>\n      <td>21.50</td>\n      <td>15.744286</td>\n      <td>5.372761</td>\n    </tr>\n    <tr>\n      <th>1978-12-31</th>\n      <td>7.21</td>\n      <td>18.50</td>\n      <td>13.285714</td>\n      <td>4.176541</td>\n      <td>5.46</td>\n      <td>16.96</td>\n      <td>10.118571</td>\n      <td>4.465622</td>\n      <td>7.83</td>\n      <td>21.29</td>\n      <td>...</td>\n      <td>11.518571</td>\n      <td>5.533894</td>\n      <td>1.21</td>\n      <td>21.79</td>\n      <td>12.924286</td>\n      <td>7.526464</td>\n      <td>11.96</td>\n      <td>41.46</td>\n      <td>28.220000</td>\n      <td>11.532902</td>\n    </tr>\n    <tr>\n      <th>1979-01-07</th>\n      <td>20.33</td>\n      <td>20.33</td>\n      <td>20.330000</td>\n      <td>NaN</td>\n      <td>17.41</td>\n      <td>17.41</td>\n      <td>17.410000</td>\n      <td>NaN</td>\n      <td>27.29</td>\n      <td>27.29</td>\n      <td>...</td>\n      <td>11.380000</td>\n      <td>NaN</td>\n      <td>12.08</td>\n      <td>12.08</td>\n      <td>12.080000</td>\n      <td>NaN</td>\n      <td>22.08</td>\n      <td>22.08</td>\n      <td>22.080000</td>\n      <td>NaN</td>\n    </tr>\n  </tbody>\n</table>\n<p>940 rows × 48 columns</p>\n</div>"
     },
     "metadata": {},
     "execution_count": 166
    }
   ],
   "source": [
    "data.resample('W',closed='left').agg(['min','max','mean','std'])"
   ]
  },
  {
   "cell_type": "code",
   "execution_count": null,
   "metadata": {},
   "outputs": [],
   "source": []
  }
 ],
 "metadata": {
  "anaconda-cloud": {},
  "kernelspec": {
   "display_name": "Python 3.7.7 64-bit ('ds': conda)",
   "language": "python",
   "name": "python_defaultSpec_1599925200994"
  },
  "language_info": {
   "codemirror_mode": {
    "name": "ipython",
    "version": 2
   },
   "file_extension": ".py",
   "mimetype": "text/x-python",
   "name": "python",
   "nbconvert_exporter": "python",
   "pygments_lexer": "ipython2",
   "version": "3.7.7-final"
  }
 },
 "nbformat": 4,
 "nbformat_minor": 0
}